{
 "cells": [
  {
   "cell_type": "markdown",
   "metadata": {},
   "source": [
    "# 0.1 Pandas Introduction : Dataframes"
   ]
  },
  {
   "cell_type": "markdown",
   "metadata": {},
   "source": [
    "We will need the Pandas and NumPy libraries for this tutorial, so let us load them at the beginning. "
   ]
  },
  {
   "cell_type": "code",
   "execution_count": 1,
   "metadata": {},
   "outputs": [],
   "source": [
    "import pandas as pd\n",
    "import numpy as np"
   ]
  },
  {
   "cell_type": "markdown",
   "metadata": {},
   "source": [
    "let's use the Pandas read_csv() function to read the dataset. "
   ]
  },
  {
   "cell_type": "code",
   "execution_count": 2,
   "metadata": {},
   "outputs": [],
   "source": [
    "adult_income = pd.read_csv(\"data/adult_income_data_small.csv\")"
   ]
  },
  {
   "cell_type": "markdown",
   "metadata": {},
   "source": [
    "#### Dataframes"
   ]
  },
  {
   "cell_type": "markdown",
   "metadata": {},
   "source": [
    "The read_csv() function returns a DataFrame. A DataFrame is a 2-dimensional data structure — analogous to a spreadsheet or SQL table. It is generally the most commonly used Pandas object."
   ]
  },
  {
   "cell_type": "markdown",
   "metadata": {},
   "source": [
    "Once the data is loaded into a pandas DataFrame, the first step is to see how large the dataset is. For this, we can check the shape of the DataFrame, which tells us the number of rows (observations) and columns (variables)."
   ]
  },
  {
   "cell_type": "code",
   "execution_count": 5,
   "metadata": {},
   "outputs": [
    {
     "name": "stdout",
     "output_type": "stream",
     "text": [
      "Shape of dataset: (326, 6)\n"
     ]
    }
   ],
   "source": [
    "print('Shape of dataset:', adult_income.shape)"
   ]
  },
  {
   "cell_type": "markdown",
   "metadata": {},
   "source": [
    "To get the column names, use the columns attribute:"
   ]
  },
  {
   "cell_type": "code",
   "execution_count": 6,
   "metadata": {},
   "outputs": [
    {
     "name": "stdout",
     "output_type": "stream",
     "text": [
      "Index(['education', 'edu_yrs', 'sex', 'capital_gain', 'hours_per_week',\n",
      "       'income'],\n",
      "      dtype='object')\n"
     ]
    }
   ],
   "source": [
    "print(adult_income.columns)"
   ]
  },
  {
   "cell_type": "markdown",
   "metadata": {},
   "source": [
    "To get a glimpse of the data itself, we can see the first five rows using the head() method:"
   ]
  },
  {
   "cell_type": "code",
   "execution_count": 7,
   "metadata": {},
   "outputs": [
    {
     "name": "stdout",
     "output_type": "stream",
     "text": [
      "      education  edu_yrs     sex  capital_gain  hours_per_week income\n",
      "0  Some-college       10    Male             0              40  <=50K\n",
      "1  Some-college       10    Male             0              45  <=50K\n",
      "2       HS-grad        9    Male             0              50   >50K\n",
      "3       HS-grad        9  Female             0              50  <=50K\n",
      "4     Doctorate       16    Male             0              40   >50K\n"
     ]
    }
   ],
   "source": [
    "print(adult_income.head())"
   ]
  },
  {
   "cell_type": "code",
   "execution_count": 8,
   "metadata": {},
   "outputs": [
    {
     "name": "stdout",
     "output_type": "stream",
     "text": [
      "      education  edu_yrs     sex  capital_gain  hours_per_week income\n",
      "0  Some-college       10    Male             0              40  <=50K\n",
      "1  Some-college       10    Male             0              45  <=50K\n",
      "2       HS-grad        9    Male             0              50   >50K\n",
      "3       HS-grad        9  Female             0              50  <=50K\n",
      "4     Doctorate       16    Male             0              40   >50K\n",
      "5       HS-grad        9    Male             0              20  <=50K\n",
      "6          11th        7    Male             0              40  <=50K\n",
      "7       HS-grad        9    Male             0              20  <=50K\n"
     ]
    }
   ],
   "source": [
    "print(adult_income.head(8))"
   ]
  },
  {
   "cell_type": "markdown",
   "metadata": {},
   "source": [
    "#### Brief description of the Dataset"
   ]
  },
  {
   "cell_type": "markdown",
   "metadata": {},
   "source": [
    "The features/variables in the dataset are described below:\n",
    "\n",
    "    education: highest educational qualification (categorical)\n",
    "    edu_yrs: total number of years spent in educational institutes (numerical)\n",
    "    sex: Male or Female (categorical, binary)\n",
    "    capital_gain: profits made through capital markets (numerical)\n",
    "    hours_per_week: working hours per week (numerical)\n",
    "    income: the target variable - either >50k or <=50K (categorical, binary)"
   ]
  },
  {
   "cell_type": "markdown",
   "metadata": {},
   "source": [
    "#### Dataset overview"
   ]
  },
  {
   "cell_type": "markdown",
   "metadata": {},
   "source": [
    "We can use the .info() method to look at the datatype of every variable, along with number of observations present, like so:"
   ]
  },
  {
   "cell_type": "code",
   "execution_count": 9,
   "metadata": {},
   "outputs": [
    {
     "name": "stdout",
     "output_type": "stream",
     "text": [
      "<class 'pandas.core.frame.DataFrame'>\n",
      "RangeIndex: 326 entries, 0 to 325\n",
      "Data columns (total 6 columns):\n",
      " #   Column          Non-Null Count  Dtype \n",
      "---  ------          --------------  ----- \n",
      " 0   education       326 non-null    object\n",
      " 1   edu_yrs         326 non-null    int64 \n",
      " 2   sex             326 non-null    object\n",
      " 3   capital_gain    326 non-null    int64 \n",
      " 4   hours_per_week  326 non-null    int64 \n",
      " 5   income          326 non-null    object\n",
      "dtypes: int64(3), object(3)\n",
      "memory usage: 15.4+ KB\n"
     ]
    }
   ],
   "source": [
    "adult_income.info()"
   ]
  },
  {
   "cell_type": "markdown",
   "metadata": {},
   "source": [
    "As you can see, the numerical variables such as edu_yrs, capital_gain, etc have type int64 (64-bit integers), and the strings (categorical variables) such as education, sex, etc have type object. "
   ]
  },
  {
   "cell_type": "markdown",
   "metadata": {},
   "source": [
    "Finally, there's the .describe() method, which by default summarizes the numerical variables. For each numerical variable, it tells us the minimum value, maximum value, mean, standard deviation, etc. Even the 25th and 75th percentile values are included."
   ]
  },
  {
   "cell_type": "code",
   "execution_count": 10,
   "metadata": {},
   "outputs": [
    {
     "name": "stdout",
     "output_type": "stream",
     "text": [
      "          edu_yrs  capital_gain  hours_per_week\n",
      "count  326.000000    326.000000      326.000000\n",
      "mean     9.944785   1395.217791       40.263804\n",
      "std      2.641099   8187.038408       12.982984\n",
      "min      2.000000      0.000000        4.000000\n",
      "25%      9.000000      0.000000       38.250000\n",
      "50%     10.000000      0.000000       40.000000\n",
      "75%     12.750000      0.000000       45.000000\n",
      "max     16.000000  99999.000000       99.000000\n"
     ]
    }
   ],
   "source": [
    "print(adult_income.describe())"
   ]
  },
  {
   "cell_type": "markdown",
   "metadata": {},
   "source": [
    "The .describe() method also accepts an argument which allows us to specify which datatype we want a summary of. For categorical variables, the datatype is 'object'.\n",
    "\n",
    "Hence, to get a summary, of the categorical variables, we will pass the parameter include with argument 'object'. When summarizing categorical variables, the .describe() method includes information about the number of unique values for the variable, the most common value for the variable, etc. "
   ]
  },
  {
   "cell_type": "code",
   "execution_count": 11,
   "metadata": {},
   "outputs": [
    {
     "name": "stdout",
     "output_type": "stream",
     "text": [
      "       education   sex income\n",
      "count        326   326    326\n",
      "unique        15     2      2\n",
      "top      HS-grad  Male  <=50K\n",
      "freq         102   215    235\n"
     ]
    }
   ],
   "source": [
    "print(adult_income.describe(include='object'))"
   ]
  },
  {
   "cell_type": "markdown",
   "metadata": {},
   "source": [
    "#### Sorting a DataFrame - sort_values()"
   ]
  },
  {
   "cell_type": "markdown",
   "metadata": {},
   "source": [
    "Sometimes in order to do data exploration or feature engineering, we might need the DataFrame to be sorted in a particular order.\n",
    "\n",
    "For example, suppose we want the adult-income dataset to be sorted in increasing order of edu_yrs variable.\n",
    "\n",
    "We can use the sort_values() DataFrame method to sort our dataset. The syntax is as follows:"
   ]
  },
  {
   "cell_type": "markdown",
   "metadata": {},
   "source": [
    "Sorted_DataFrame = DataFrame.sort_values(by, axis=0, ascending=True)"
   ]
  },
  {
   "cell_type": "markdown",
   "metadata": {},
   "source": [
    "This returns a sorted copy of the DataFrame.\n",
    "\n",
    "Parameters:\n",
    "\n",
    "    by: the column name or list of column names to sort the DataFrame by\n",
    "    axis: \"0\" denotes sorting by values in a column. (\"1\" means sorting by row)\n",
    "    ascending: if this is \"True\", sort in ascending order, otherwise descending order"
   ]
  },
  {
   "cell_type": "markdown",
   "metadata": {},
   "source": [
    "We will sort according to the edu_yrs column: "
   ]
  },
  {
   "cell_type": "code",
   "execution_count": 13,
   "metadata": {},
   "outputs": [],
   "source": [
    "df_sorted = adult_income.sort_values(by=\"edu_yrs\", axis=0, ascending=False)"
   ]
  },
  {
   "cell_type": "code",
   "execution_count": 14,
   "metadata": {},
   "outputs": [
    {
     "name": "stdout",
     "output_type": "stream",
     "text": [
      "       education  edu_yrs     sex  capital_gain  hours_per_week income\n",
      "75     Doctorate       16    Male             0              40  <=50K\n",
      "4      Doctorate       16    Male             0              40   >50K\n",
      "211    Doctorate       16  Female             0              48   >50K\n",
      "280    Doctorate       16    Male             0              35   >50K\n",
      "36   Prof-school       15    Male             0              50   >50K\n"
     ]
    }
   ],
   "source": [
    "# display the top 5 values (maximum \"edu_yrs\")\n",
    "print(df_sorted.head())"
   ]
  },
  {
   "cell_type": "code",
   "execution_count": 15,
   "metadata": {},
   "outputs": [
    {
     "name": "stdout",
     "output_type": "stream",
     "text": [
      "    education  edu_yrs     sex  capital_gain  hours_per_week income\n",
      "87    5th-6th        3    Male             0              35  <=50K\n",
      "219   1st-4th        2  Female             0              40  <=50K\n",
      "9     1st-4th        2    Male             0              35  <=50K\n",
      "38    1st-4th        2    Male             0              40  <=50K\n",
      "83    1st-4th        2  Female             0              15  <=50K\n"
     ]
    }
   ],
   "source": [
    "# display the bottom 5 values (minimum \"edu_yrs\")\n",
    "print(df_sorted.tail())"
   ]
  },
  {
   "cell_type": "markdown",
   "metadata": {},
   "source": [
    "However, you may notice that even though the data is sorted, multiple rows with the same value for edu_yrs are not arranged in any particular order.\n",
    "\n",
    "What if we wanted all the rows which have the same value of edu_yrs to be sorted with respect to the hours_per_week column?\n",
    "\n",
    "We just need to pass the name of the second column we want to sort by, along with the first column as a list to the by parameter:"
   ]
  },
  {
   "cell_type": "code",
   "execution_count": 16,
   "metadata": {},
   "outputs": [
    {
     "name": "stdout",
     "output_type": "stream",
     "text": [
      "       education  edu_yrs     sex  capital_gain  hours_per_week income\n",
      "211    Doctorate       16  Female             0              48   >50K\n",
      "4      Doctorate       16    Male             0              40   >50K\n",
      "75     Doctorate       16    Male             0              40  <=50K\n",
      "280    Doctorate       16    Male             0              35   >50K\n",
      "26   Prof-school       15    Male             0              50   >50K\n",
      "36   Prof-school       15    Male             0              50   >50K\n",
      "80   Prof-school       15    Male         99999              50   >50K\n",
      "153  Prof-school       15    Male             0              50   >50K\n",
      "307  Prof-school       15  Female         14084              50   >50K\n",
      "220      Masters       14  Female         15831              72   >50K\n",
      "45       Masters       14    Male             0              60   >50K\n",
      "146      Masters       14  Female          8614              55   >50K\n"
     ]
    }
   ],
   "source": [
    "df_sorted = adult_income.sort_values(by=[\"edu_yrs\",\"hours_per_week\"], axis=0, ascending=False)\n",
    "\n",
    "# display the top 12 values after sorting\n",
    "print(df_sorted.head(12))"
   ]
  },
  {
   "cell_type": "markdown",
   "metadata": {},
   "source": [
    "We can even modify this further. It is not necessary that we will want the DataFrame to be sorted in descending order by both the columns.\n",
    "\n",
    "We might want to get it sorted in descending order of edu_yrs values, while sorting in ascending order of hours_per_week values within that.\n",
    "\n",
    "To do that, we pass a list to the ascending parameter as well, with the order corresponding to that of the list passed to the by parameter.\n",
    "\n",
    "For example in our current problem we will pass the following argument ascending = [False, True]"
   ]
  },
  {
   "cell_type": "code",
   "execution_count": 17,
   "metadata": {},
   "outputs": [
    {
     "name": "stdout",
     "output_type": "stream",
     "text": [
      "       education  edu_yrs     sex  capital_gain  hours_per_week income\n",
      "280    Doctorate       16    Male             0              35   >50K\n",
      "4      Doctorate       16    Male             0              40   >50K\n",
      "75     Doctorate       16    Male             0              40  <=50K\n",
      "211    Doctorate       16  Female             0              48   >50K\n",
      "26   Prof-school       15    Male             0              50   >50K\n",
      "36   Prof-school       15    Male             0              50   >50K\n",
      "80   Prof-school       15    Male         99999              50   >50K\n",
      "153  Prof-school       15    Male             0              50   >50K\n",
      "307  Prof-school       15  Female         14084              50   >50K\n",
      "30       Masters       14    Male             0              40   >50K\n",
      "34       Masters       14    Male             0              40   >50K\n",
      "91       Masters       14    Male             0              40  <=50K\n"
     ]
    }
   ],
   "source": [
    "df_sorted = adult_income.sort_values(by=[\"edu_yrs\",\"hours_per_week\"], axis=0, ascending=[False, True])\n",
    "\n",
    "# display the top 12 values after sorting\n",
    "print(df_sorted.head(12))"
   ]
  },
  {
   "cell_type": "markdown",
   "metadata": {},
   "source": [
    "#### Top Values - nlargest() and nsmallest()"
   ]
  },
  {
   "cell_type": "markdown",
   "metadata": {},
   "source": [
    "Sometimes we may not be interested in sorting the DataFrame, but just need to look at the top 10 or top 20 instances according to some column/feature.\n",
    "\n",
    "For example:\n",
    "\n",
    "    Who are the top 10 earners of capital_gain?\n",
    "    According to hours_per_week, which 5 people have the lowest working hours?\n",
    "\n",
    "Instead of sorting and then viewing the top 5 or 10 results, we can use a function to display the largest or smallest n-values according to any column. We will be using the following functions for this: nlargest() and nsmallest()"
   ]
  },
  {
   "cell_type": "markdown",
   "metadata": {},
   "source": [
    "1. Who are the top 10 earners of \"capital-gain\"?"
   ]
  },
  {
   "cell_type": "code",
   "execution_count": 19,
   "metadata": {},
   "outputs": [
    {
     "name": "stdout",
     "output_type": "stream",
     "text": [
      "       education  edu_yrs     sex  capital_gain  hours_per_week income\n",
      "211    Doctorate       16  Female             0              48   >50K\n",
      "4      Doctorate       16    Male             0              40   >50K\n",
      "75     Doctorate       16    Male             0              40  <=50K\n",
      "280    Doctorate       16    Male             0              35   >50K\n",
      "26   Prof-school       15    Male             0              50   >50K\n",
      "36   Prof-school       15    Male             0              50   >50K\n",
      "80   Prof-school       15    Male         99999              50   >50K\n",
      "153  Prof-school       15    Male             0              50   >50K\n",
      "307  Prof-school       15  Female         14084              50   >50K\n",
      "220      Masters       14  Female         15831              72   >50K\n"
     ]
    }
   ],
   "source": [
    "df_largest = adult_income.nlargest(10, \"capital_gain\")\n",
    "\n",
    "# display results\n",
    "print(df_largest)"
   ]
  },
  {
   "cell_type": "markdown",
   "metadata": {},
   "source": [
    "2. According to \"hours-per-week\", which 5 people have the lowest working hours?"
   ]
  },
  {
   "cell_type": "code",
   "execution_count": 21,
   "metadata": {},
   "outputs": [
    {
     "name": "stdout",
     "output_type": "stream",
     "text": [
      "      education  edu_yrs     sex  capital_gain  hours_per_week income\n",
      "0  Some-college       10    Male             0              40  <=50K\n",
      "1  Some-college       10    Male             0              45  <=50K\n",
      "2       HS-grad        9    Male             0              50   >50K\n",
      "3       HS-grad        9  Female             0              50  <=50K\n",
      "4     Doctorate       16    Male             0              40   >50K\n"
     ]
    }
   ],
   "source": [
    "# Who are the bottom 5 earners of \"capital-gain\".\n",
    "df_smallest = adult_income.nsmallest(5, \"capital_gain\")\n",
    "\n",
    "# display results\n",
    "print(df_smallest)"
   ]
  },
  {
   "cell_type": "markdown",
   "metadata": {},
   "source": [
    "we can also pass the list of columns."
   ]
  },
  {
   "cell_type": "code",
   "execution_count": 22,
   "metadata": {},
   "outputs": [
    {
     "name": "stdout",
     "output_type": "stream",
     "text": [
      "    education  edu_yrs     sex  capital_gain  hours_per_week income\n",
      "9     1st-4th        2    Male             0              35  <=50K\n",
      "38    1st-4th        2    Male             0              40  <=50K\n",
      "83    1st-4th        2  Female             0              15  <=50K\n",
      "219   1st-4th        2  Female             0              40  <=50K\n",
      "87    5th-6th        3    Male             0              35  <=50K\n"
     ]
    }
   ],
   "source": [
    "# Who are the bottom 5 earners of \"capital-gain\".\n",
    "df_smallest = adult_income.nsmallest(5, [\"capital_gain\", \"edu_yrs\"])\n",
    "\n",
    "# display results\n",
    "print(df_smallest)"
   ]
  },
  {
   "cell_type": "markdown",
   "metadata": {},
   "source": [
    "#### summary"
   ]
  },
  {
   "cell_type": "markdown",
   "metadata": {},
   "source": [
    "\n",
    "\n",
    "    The pandas DataFrame is a 2D table. It is the Python equivalent of a spreadsheet or SQL table.\n",
    "    read_csv() function — reads a CSV file and returns a DataFrame\n",
    "    head() and tail() methods — used to see the first and last few rows\n",
    "    info() method — prints the datatypes of every variable\n",
    "    describe() method — summarizes each variable in the DataFrame. For numerical variables, displays the mean, median, etc. For categorical variables, displays the mode, number of unique values, etc.\n",
    "    sort_values() method — used to sort a DataFrame\n",
    "        by parameter — for specifying the column to sort by\n",
    "        ascending parameter — for ascending or descending order\n",
    "    nlargest(n, column) and nsmallest(n, column) methods — returns the n rows with the largest / smallest values for the specified column"
   ]
  },
  {
   "cell_type": "markdown",
   "metadata": {},
   "source": [
    "# 0.2 Creating Series and DataFrames"
   ]
  },
  {
   "cell_type": "markdown",
   "metadata": {},
   "source": [
    "Series which is a 1-dimensional data structure supported by Pandas. In fact, in Pandas, each column of a DataFrame is a Series."
   ]
  },
  {
   "cell_type": "markdown",
   "metadata": {},
   "source": [
    "#### series"
   ]
  },
  {
   "cell_type": "markdown",
   "metadata": {},
   "source": [
    "Just like the DataFrame, Series is another useful data structure provided by the Pandas library.\n",
    "\n",
    "A Series is a 1-dimensional array. It is capable of holding all data types like integers, strings, floating point numbers, Python objects, etc.\n",
    "\n",
    "Unlike DataFrames which have an index (row labels) and columns (column labels), Series objects have only one set of labels."
   ]
  },
  {
   "cell_type": "markdown",
   "metadata": {},
   "source": [
    "#### Creating a Series"
   ]
  },
  {
   "cell_type": "markdown",
   "metadata": {},
   "source": [
    "pandas.Series(data=None, index=None)"
   ]
  },
  {
   "cell_type": "markdown",
   "metadata": {},
   "source": [
    "Here's a description of each of the parameters:\n",
    "\n",
    "    data — refers to the data to store in the Series. It can be a list, 1D numpy array, dict or a scalar value.\n",
    "    index — refers to the index labels. If no index is passed, the default index is range 0 to n-1. Index values must be hashable and have the same length as the data."
   ]
  },
  {
   "cell_type": "markdown",
   "metadata": {},
   "source": [
    "Additionally, if a dict of key-value pairs is passed as data and no index is passed, then the key is used as the index."
   ]
  },
  {
   "cell_type": "markdown",
   "metadata": {},
   "source": [
    "Let us look at some examples of Series construction."
   ]
  },
  {
   "cell_type": "code",
   "execution_count": 23,
   "metadata": {},
   "outputs": [
    {
     "name": "stdout",
     "output_type": "stream",
     "text": [
      "0            1\n",
      "1          tom\n",
      "2           32\n",
      "3    qualified\n",
      "dtype: object\n"
     ]
    }
   ],
   "source": [
    "# From a list, without passing any index\n",
    "s1 = pd.Series([1, 'tom', 32, 'qualified'])\n",
    "print(s1)"
   ]
  },
  {
   "cell_type": "code",
   "execution_count": 24,
   "metadata": {},
   "outputs": [
    {
     "name": "stdout",
     "output_type": "stream",
     "text": [
      "number            1\n",
      "name            tom\n",
      "age              32\n",
      "status    qualified\n",
      "dtype: object\n"
     ]
    }
   ],
   "source": [
    "# From a list, with an index\n",
    "s2 = pd.Series([1, 'tom', 32, 'qualified'], index=['number', 'name', 'age', 'status'])\n",
    "print(s2)"
   ]
  },
  {
   "cell_type": "code",
   "execution_count": 25,
   "metadata": {},
   "outputs": [
    {
     "name": "stdout",
     "output_type": "stream",
     "text": [
      "first       1\n",
      "second    345\n",
      "third      14\n",
      "fourth     24\n",
      "fifth      12\n",
      "dtype: int64\n"
     ]
    }
   ],
   "source": [
    "# From a list of integer values, with an index\n",
    "s3 = pd.Series([1, 345, 14, 24, 12], index=['first', 'second', 'third', 'fourth', 'fifth'])\n",
    "print(s3)"
   ]
  },
  {
   "cell_type": "code",
   "execution_count": 26,
   "metadata": {},
   "outputs": [
    {
     "name": "stdout",
     "output_type": "stream",
     "text": [
      "number            1\n",
      "name            tom\n",
      "age              32\n",
      "status    qualified\n",
      "dtype: object\n"
     ]
    }
   ],
   "source": [
    "# From a dict of key-value pairs\n",
    "s4 = pd.Series({'number':1, 'name':'tom', 'age':32, 'status':'qualified'})\n",
    "print(s4)"
   ]
  },
  {
   "cell_type": "markdown",
   "metadata": {},
   "source": [
    "the data type ( dtype ) of the Series is inferred from the elements passed to the Series. It is automatically chosen such that all elements in the Series are of same dtype (or a sub-type of dtype). "
   ]
  },
  {
   "cell_type": "markdown",
   "metadata": {},
   "source": [
    "#### Creating a DataFrame"
   ]
  },
  {
   "cell_type": "markdown",
   "metadata": {},
   "source": [
    "pandas.DataFrame(data=None, index=None, columns=None)"
   ]
  },
  {
   "cell_type": "markdown",
   "metadata": {},
   "source": [
    "Here's a description of each of the parameters:\n",
    "\n",
    "    data — a 2D array, or a dict (of 1D array, Series, list or dicts).\n",
    "    index — row index values for the DataFrame that will be created. If not specified, row index values default to the range 0 to n-1 (where n is the number of rows).\n",
    "    columns — column labels of the DataFrame that will be created. If not specified, column labels default to the range 0 to c-1 (where c is the number of columns)."
   ]
  },
  {
   "cell_type": "markdown",
   "metadata": {},
   "source": [
    "#### Creating DataFrame from ndarray"
   ]
  },
  {
   "cell_type": "markdown",
   "metadata": {},
   "source": [
    "we will see how to create a DataFrame using a numpy ndarray as data, and a list of column labels. "
   ]
  },
  {
   "cell_type": "code",
   "execution_count": 28,
   "metadata": {},
   "outputs": [
    {
     "name": "stdout",
     "output_type": "stream",
     "text": [
      "       col1      col2      col3      col4      col5\n",
      "0  3.745401  9.507143  7.319939  5.986585  1.560186\n",
      "1  1.559945  0.580836  8.661761  6.011150  7.080726\n",
      "2  0.205845  9.699099  8.324426  2.123391  1.818250\n",
      "3  1.834045  3.042422  5.247564  4.319450  2.912291\n",
      "4  6.118529  1.394939  2.921446  3.663618  4.560700\n",
      "5  7.851760  1.996738  5.142344  5.924146  0.464504\n",
      "6  6.075449  1.705241  0.650516  9.488855  9.656320\n"
     ]
    }
   ],
   "source": [
    "# Create a random 7 x 5 numpy ndarray\n",
    "np.random.seed(42) # set a seed so that the same random numbers are generated each time\n",
    "np_array = 10 * np.random.rand(7, 5)\n",
    "\n",
    "# Create a list of 5 column labels\n",
    "cols = ['col1', 'col2', 'col3', 'col4', 'col5']\n",
    "\n",
    "# Create the DataFrame\n",
    "ndf = pd.DataFrame(data=np_array, columns=cols)\n",
    "\n",
    "# Display dataframe\n",
    "print(ndf)"
   ]
  },
  {
   "cell_type": "markdown",
   "metadata": {},
   "source": [
    "#### Creating DataFrame from dict"
   ]
  },
  {
   "cell_type": "code",
   "execution_count": 29,
   "metadata": {},
   "outputs": [],
   "source": [
    "# make three Series'\n",
    "s1 = pd.Series([10, 20, 30, 40, 50])\n",
    "s2 = pd.Series(['a', 'b', 'c', 'd', 'e'])\n",
    "s3 = pd.Series(['one', 'two', 'three', 'four', 'five'])\n",
    "\n",
    "# create a dict\n",
    "data_dict = {'col1': s1, 'col2': s2, 'col3': s3}"
   ]
  },
  {
   "cell_type": "markdown",
   "metadata": {},
   "source": [
    "If we don't pass a list of names to column explicitly, the column labels in the constructed DataFrame will be the ordered list of dict keys."
   ]
  },
  {
   "cell_type": "code",
   "execution_count": 30,
   "metadata": {},
   "outputs": [
    {
     "name": "stdout",
     "output_type": "stream",
     "text": [
      "   col1 col2   col3\n",
      "0    10    a    one\n",
      "1    20    b    two\n",
      "2    30    c  three\n",
      "3    40    d   four\n",
      "4    50    e   five\n"
     ]
    }
   ],
   "source": [
    "# create dataframe\n",
    "df = pd.DataFrame(data=data_dict)\n",
    "\n",
    "# display dataframe\n",
    "print(df)"
   ]
  },
  {
   "cell_type": "markdown",
   "metadata": {},
   "source": [
    "If we pass a list to column parameter, then only the dictionary keys which match the list of column labels are selectively kept in the DataFrame."
   ]
  },
  {
   "cell_type": "code",
   "execution_count": 31,
   "metadata": {},
   "outputs": [
    {
     "name": "stdout",
     "output_type": "stream",
     "text": [
      "   col1 col2\n",
      "0    10    a\n",
      "1    20    b\n",
      "2    30    c\n",
      "3    40    d\n",
      "4    50    e\n"
     ]
    }
   ],
   "source": [
    "# data_dict same as defined earlier\n",
    "\n",
    "# create a list of columns_labes\n",
    "cols = ['col1', 'col2']\n",
    "\n",
    "# create DataFrame\n",
    "df = pd.DataFrame(data=data_dict, columns=cols)\n",
    "\n",
    "# display DataFrame\n",
    "print(df)"
   ]
  },
  {
   "cell_type": "markdown",
   "metadata": {},
   "source": [
    "#### DataFrame from multiple lists as rows"
   ]
  },
  {
   "cell_type": "code",
   "execution_count": 33,
   "metadata": {},
   "outputs": [
    {
     "name": "stdout",
     "output_type": "stream",
     "text": [
      "   col1  col2  col3    col4    col5\n",
      "0   one     1    up     top  beauty\n",
      "1  zero     0  down  bottom   charm\n"
     ]
    }
   ],
   "source": [
    "# create multiple lists (one per row)\n",
    "a1 = ['one', 1, 'up', 'top', 'beauty']\n",
    "a2 = ['zero', 0, 'down', 'bottom', 'charm']\n",
    "\n",
    "# combine the data into a single list\n",
    "l = [a1, a2]\n",
    "\n",
    "# create a list of column names\n",
    "col = ['col1', 'col2', 'col3', 'col4', 'col5']\n",
    "\n",
    "# create the DataFrame\n",
    "df2 = pd.DataFrame(data=l, columns=col)\n",
    "\n",
    "# display DataFrame\n",
    "print(df2)"
   ]
  },
  {
   "cell_type": "markdown",
   "metadata": {},
   "source": [
    "#### Creating or adding rows"
   ]
  },
  {
   "cell_type": "markdown",
   "metadata": {},
   "source": [
    "DataFrame.append(other, ignore_index=False)"
   ]
  },
  {
   "cell_type": "markdown",
   "metadata": {},
   "source": [
    "where,\n",
    "\n",
    "    other - can be a Series or Dictionary. Incase you want to pass multiple rows, you also pass a list of Series, Dictionaries or even a DataFrame.\n",
    "    ignore_index - if True, it ignores the index of object passed in other and ressigns the row(s) with new index instead. If False (the default value), it preserves the index from other. "
   ]
  },
  {
   "cell_type": "markdown",
   "metadata": {},
   "source": [
    "Note: If the columns of DataFrame and other object doesn't match, the additional elements from non existing columns will be filled with NaN. We will avoid doing this for now and assume that the other object we pass has exactly the same columns as the DataFrame."
   ]
  },
  {
   "cell_type": "markdown",
   "metadata": {},
   "source": [
    "#### Dict as new row"
   ]
  },
  {
   "cell_type": "code",
   "execution_count": 34,
   "metadata": {},
   "outputs": [
    {
     "name": "stdout",
     "output_type": "stream",
     "text": [
      "   col1  col2  col3    col4    col5\n",
      "0   one     1    up     top  beauty\n",
      "1  zero     0  down  bottom   charm\n",
      "2   two     2  blue   green     red\n"
     ]
    }
   ],
   "source": [
    "# declare a key-value pair dict type to match the dimensions of row\n",
    "row = {'col1':'two', 'col2':2, 'col3':'blue', 'col4':'green', 'col5':'red'}\n",
    "\n",
    "# pass it to the append() method\n",
    "new_df = df2.append(row, ignore_index=True)\n",
    "\n",
    "# display the new DataFrame\n",
    "print(new_df)"
   ]
  },
  {
   "cell_type": "markdown",
   "metadata": {},
   "source": [
    "#### Series as new row"
   ]
  },
  {
   "cell_type": "code",
   "execution_count": 35,
   "metadata": {},
   "outputs": [
    {
     "name": "stdout",
     "output_type": "stream",
     "text": [
      "    col1  col2   col3    col4    col5\n",
      "0    one     1     up     top  beauty\n",
      "1   zero     0   down  bottom   charm\n",
      "2  three     3  black   white    grey\n"
     ]
    }
   ],
   "source": [
    "# create a series with column labels of \"df2\" as index\n",
    "row = pd.Series(['three',3,'black','white','grey'],\n",
    "                index=df2.columns)\n",
    "\n",
    "# pass it to the append() method\n",
    "new_df = df2.append(row, ignore_index=True)\n",
    "\n",
    "# display the new DataFrame\n",
    "print(new_df)"
   ]
  },
  {
   "cell_type": "markdown",
   "metadata": {},
   "source": [
    "#### Adding multiple rows"
   ]
  },
  {
   "cell_type": "code",
   "execution_count": 36,
   "metadata": {},
   "outputs": [
    {
     "name": "stdout",
     "output_type": "stream",
     "text": [
      "   col1  col2        col3    col4      col5\n",
      "0   one     1          up     top    beauty\n",
      "1  zero     0        down  bottom     charm\n",
      "2  four     4        left   right    center\n",
      "3  five     5  Winterfell   Eyrie  Sunspear\n"
     ]
    }
   ],
   "source": [
    "# create two series with column labels of \"df2\" as index\n",
    "row1 = pd.Series(['four',4,'left','right','center'],\n",
    "              index=df2.columns)\n",
    "\n",
    "row2 = pd.Series(['five',5,'Winterfell','Eyrie','Sunspear'],\n",
    "              index=df2.columns)\n",
    "\n",
    "# pass it to the append() method\n",
    "new_df = df2.append([row1, row2], ignore_index=True)\n",
    "\n",
    "# display the new DataFrame\n",
    "print(new_df)"
   ]
  },
  {
   "cell_type": "markdown",
   "metadata": {},
   "source": [
    "#### Converting a DataFrame to other formats"
   ]
  },
  {
   "cell_type": "markdown",
   "metadata": {},
   "source": [
    "##### Converting to a ndarray (NumPy array)"
   ]
  },
  {
   "cell_type": "markdown",
   "metadata": {},
   "source": [
    "\n",
    "\n",
    "    using the Pandas DataFrame .values attribute\n",
    "    using the Pandas DataFrame .to_numpy() method"
   ]
  },
  {
   "cell_type": "markdown",
   "metadata": {},
   "source": [
    " if the DataFrame contains integers and floats, the dtype of the ndarray will be float. But if the DataFrame has numeric as well as non-numeric values, then the dtype will be object."
   ]
  },
  {
   "cell_type": "code",
   "execution_count": 37,
   "metadata": {},
   "outputs": [
    {
     "name": "stdout",
     "output_type": "stream",
     "text": [
      "The DataFrame\n",
      "       col1      col2      col3      col4      col5\n",
      "0  3.745401  9.507143  7.319939  5.986585  1.560186\n",
      "1  1.559945  0.580836  8.661761  6.011150  7.080726\n",
      "2  0.205845  9.699099  8.324426  2.123391  1.818250\n",
      "3  1.834045  3.042422  5.247564  4.319450  2.912291\n",
      "4  6.118529  1.394939  2.921446  3.663618  4.560700\n",
      "5  7.851760  1.996738  5.142344  5.924146  0.464504\n",
      "6  6.075449  1.705241  0.650516  9.488855  9.656320\n",
      "\n",
      "Using values attribute\n",
      "[[3.74540119 9.50714306 7.31993942 5.98658484 1.5601864 ]\n",
      " [1.5599452  0.58083612 8.66176146 6.01115012 7.08072578]\n",
      " [0.20584494 9.69909852 8.32442641 2.12339111 1.81824967]\n",
      " [1.8340451  3.04242243 5.24756432 4.31945019 2.9122914 ]\n",
      " [6.11852895 1.39493861 2.92144649 3.66361843 4.56069984]\n",
      " [7.85175961 1.99673782 5.14234438 5.92414569 0.46450413]\n",
      " [6.07544852 1.70524124 0.65051593 9.48885537 9.65632033]]\n",
      "\n"
     ]
    }
   ],
   "source": [
    "# print DataFrame\n",
    "print('The DataFrame')\n",
    "print(ndf)\n",
    "print(\"\")\n",
    "\n",
    "# use the values attribute to return an ndarray\n",
    "print('Using values attribute')\n",
    "print(ndf.values)\n",
    "print(\"\")"
   ]
  },
  {
   "cell_type": "markdown",
   "metadata": {},
   "source": [
    "DataFrame.to_numpy(dtype=\"\")"
   ]
  },
  {
   "cell_type": "markdown",
   "metadata": {},
   "source": [
    "In this case too, the dtype of the ndarray is chosen such that it can preserve and accommodate all the values from the DataFrame. But with this method we can also explicitly specify the dtype by passing the dtype parameter."
   ]
  },
  {
   "cell_type": "code",
   "execution_count": 38,
   "metadata": {
    "scrolled": true
   },
   "outputs": [
    {
     "name": "stdout",
     "output_type": "stream",
     "text": [
      "Using to_numpy() method\n",
      "[[3.74540119 9.50714306 7.31993942 5.98658484 1.5601864 ]\n",
      " [1.5599452  0.58083612 8.66176146 6.01115012 7.08072578]\n",
      " [0.20584494 9.69909852 8.32442641 2.12339111 1.81824967]\n",
      " [1.8340451  3.04242243 5.24756432 4.31945019 2.9122914 ]\n",
      " [6.11852895 1.39493861 2.92144649 3.66361843 4.56069984]\n",
      " [7.85175961 1.99673782 5.14234438 5.92414569 0.46450413]\n",
      " [6.07544852 1.70524124 0.65051593 9.48885537 9.65632033]]\n",
      "\n",
      "Using to_numpy() method with dtype=\"int\"\n",
      "[[3 9 7 5 1]\n",
      " [1 0 8 6 7]\n",
      " [0 9 8 2 1]\n",
      " [1 3 5 4 2]\n",
      " [6 1 2 3 4]\n",
      " [7 1 5 5 0]\n",
      " [6 1 0 9 9]]\n",
      "\n"
     ]
    }
   ],
   "source": [
    "# use the to_numpy() method to convert to ndarray\n",
    "print('Using to_numpy() method')\n",
    "print(ndf.to_numpy())\n",
    "print(\"\")\n",
    "\n",
    "# use to_numpy() method with explicit dtype\n",
    "print('Using to_numpy() method with dtype=\"int\"')\n",
    "print(ndf.to_numpy(dtype='int'))\n",
    "print(\"\")"
   ]
  },
  {
   "cell_type": "markdown",
   "metadata": {},
   "source": [
    "#### Converting to a dict or a list"
   ]
  },
  {
   "cell_type": "markdown",
   "metadata": {},
   "source": [
    "DataFrame.to_dict(orient='dict')"
   ]
  },
  {
   "cell_type": "markdown",
   "metadata": {},
   "source": [
    "The orient parameter can take a number of arguments, but we will concentrate on four of them: \"dict\", \"list\", \"series\" and \"records\".\n",
    "\n",
    "    For the first three arguments (\"dict\", \"list\" and \"series\" ), the method returns a dict of key-value pairs, where the keys are column labels of the DataFrame. The data-structure of the values are as specified by the orient parameter (dict, list or Series).\n",
    "        \"dict\" - this is the default argument. The values of the dict returned are dict themselves with row index as key and elements of the column as values.\n",
    "        \"list\" - the values of the dict are lists of corresponding column elements.\n",
    "        \"series\" - the values of the dict are Series of column elements, with the row index as index label of the series. The dtype of the series are inferred from the data.\n",
    "    For the last argument — \"records\" — the method returns a list with one dict corresponding to each row in the DataFrame."
   ]
  },
  {
   "cell_type": "markdown",
   "metadata": {},
   "source": [
    "Let's convert the DataFrame new_df from the \"Adding multiple rows\" section into these various formats. We'll use Python's pretty print library — pprint — to print the results in a nicely formatted way so that it is easier to look at."
   ]
  },
  {
   "cell_type": "code",
   "execution_count": 39,
   "metadata": {},
   "outputs": [
    {
     "name": "stdout",
     "output_type": "stream",
     "text": [
      "The dataframe\n",
      "   col1  col2        col3    col4      col5\n",
      "0   one     1          up     top    beauty\n",
      "1  zero     0        down  bottom     charm\n",
      "2  four     4        left   right    center\n",
      "3  five     5  Winterfell   Eyrie  Sunspear\n",
      "\n",
      "to_dict() with orient=\"dict\"\n",
      "{'col1': {0: 'one', 1: 'zero', 2: 'four', 3: 'five'},\n",
      " 'col2': {0: 1, 1: 0, 2: 4, 3: 5},\n",
      " 'col3': {0: 'up', 1: 'down', 2: 'left', 3: 'Winterfell'},\n",
      " 'col4': {0: 'top', 1: 'bottom', 2: 'right', 3: 'Eyrie'},\n",
      " 'col5': {0: 'beauty', 1: 'charm', 2: 'center', 3: 'Sunspear'}}\n",
      "\n",
      "to_dict() with orient=\"list\"\n",
      "{'col1': ['one', 'zero', 'four', 'five'],\n",
      " 'col2': [1, 0, 4, 5],\n",
      " 'col3': ['up', 'down', 'left', 'Winterfell'],\n",
      " 'col4': ['top', 'bottom', 'right', 'Eyrie'],\n",
      " 'col5': ['beauty', 'charm', 'center', 'Sunspear']}\n",
      "\n",
      "to_dict() with orient=\"series\"\n",
      "{'col1': 0     one\n",
      "1    zero\n",
      "2    four\n",
      "3    five\n",
      "Name: col1, dtype: object,\n",
      " 'col2': 0    1\n",
      "1    0\n",
      "2    4\n",
      "3    5\n",
      "Name: col2, dtype: int64,\n",
      " 'col3': 0            up\n",
      "1          down\n",
      "2          left\n",
      "3    Winterfell\n",
      "Name: col3, dtype: object,\n",
      " 'col4': 0       top\n",
      "1    bottom\n",
      "2     right\n",
      "3     Eyrie\n",
      "Name: col4, dtype: object,\n",
      " 'col5': 0      beauty\n",
      "1       charm\n",
      "2      center\n",
      "3    Sunspear\n",
      "Name: col5, dtype: object}\n",
      "\n",
      "to_dict() with orient=\"records\"\n",
      "[{'col1': 'one', 'col2': 1, 'col3': 'up', 'col4': 'top', 'col5': 'beauty'},\n",
      " {'col1': 'zero', 'col2': 0, 'col3': 'down', 'col4': 'bottom', 'col5': 'charm'},\n",
      " {'col1': 'four', 'col2': 4, 'col3': 'left', 'col4': 'right', 'col5': 'center'},\n",
      " {'col1': 'five',\n",
      "  'col2': 5,\n",
      "  'col3': 'Winterfell',\n",
      "  'col4': 'Eyrie',\n",
      "  'col5': 'Sunspear'}]\n",
      "\n"
     ]
    }
   ],
   "source": [
    "import pprint\n",
    "\n",
    "# print the actual dataframe\n",
    "print('The dataframe')\n",
    "print(new_df)\n",
    "print('')\n",
    "\n",
    "print('to_dict() with orient=\"dict\"')\n",
    "pprint.pprint(new_df.to_dict(orient='dict'))\n",
    "print('')\n",
    "\n",
    "print('to_dict() with orient=\"list\"')\n",
    "pprint.pprint(new_df.to_dict(orient='list'))\n",
    "print('')\n",
    "\n",
    "print('to_dict() with orient=\"series\"')\n",
    "pprint.pprint(new_df.to_dict(orient='series'))\n",
    "print('')\n",
    "\n",
    "print('to_dict() with orient=\"records\"')\n",
    "pprint.pprint(new_df.to_dict(orient='records'))\n",
    "print('')"
   ]
  },
  {
   "cell_type": "markdown",
   "metadata": {},
   "source": [
    "#### summary"
   ]
  },
  {
   "cell_type": "markdown",
   "metadata": {},
   "source": [
    "\n",
    "    Series is a 1-dimensional data-structure supported by Pandas.\n",
    "        Series objects have only one set of labels.\n",
    "        Each column of a Pandas DataFrame is a Series.\n",
    "    We can create DataFrames from ndarray, dicts, etc and also convert a DataFrame back to these formats\n",
    "    We can add rows to a DataFrame using append()"
   ]
  },
  {
   "cell_type": "markdown",
   "metadata": {},
   "source": [
    "# 0.3 Indexing and Slicing"
   ]
  },
  {
   "cell_type": "code",
   "execution_count": 3,
   "metadata": {},
   "outputs": [
    {
     "name": "stdout",
     "output_type": "stream",
     "text": [
      "      education  edu_yrs     sex  capital_gain  hours_per_week income\n",
      "0  Some-college       10    Male             0              40  <=50K\n",
      "1  Some-college       10    Male             0              45  <=50K\n",
      "2       HS-grad        9    Male             0              50   >50K\n",
      "3       HS-grad        9  Female             0              50  <=50K\n",
      "4     Doctorate       16    Male             0              40   >50K\n"
     ]
    }
   ],
   "source": [
    "print(adult_income.head())"
   ]
  },
  {
   "cell_type": "markdown",
   "metadata": {},
   "source": [
    "#### Selecting single column using []"
   ]
  },
  {
   "cell_type": "markdown",
   "metadata": {},
   "source": [
    "selected_col = adult_income[\"income\"]"
   ]
  },
  {
   "cell_type": "markdown",
   "metadata": {},
   "source": [
    "Note: When we select a column of a Pandas DataFrame this way, the result is the Pandas data-structure called Series. A pandas Series is a 1-dimensional data-structure."
   ]
  },
  {
   "cell_type": "code",
   "execution_count": 5,
   "metadata": {},
   "outputs": [
    {
     "name": "stdout",
     "output_type": "stream",
     "text": [
      "0    <=50K\n",
      "1    <=50K\n",
      "2     >50K\n",
      "3    <=50K\n",
      "4     >50K\n",
      "Name: income, dtype: object\n"
     ]
    }
   ],
   "source": [
    "selected_col = adult_income[\"income\"]\n",
    "\n",
    "# display first few elements\n",
    "print(selected_col.head())"
   ]
  },
  {
   "cell_type": "markdown",
   "metadata": {},
   "source": [
    "In the output above, there's no column name. That's because we're calling the head() function on a Series. If the result was a dataframe, we would see a column name in the output."
   ]
  },
  {
   "cell_type": "markdown",
   "metadata": {},
   "source": [
    "#### Selecting multiple columns using []"
   ]
  },
  {
   "cell_type": "code",
   "execution_count": 6,
   "metadata": {},
   "outputs": [
    {
     "name": "stdout",
     "output_type": "stream",
     "text": [
      "      education     sex  hours_per_week income\n",
      "0  Some-college    Male              40  <=50K\n",
      "1  Some-college    Male              45  <=50K\n",
      "2       HS-grad    Male              50   >50K\n",
      "3       HS-grad  Female              50  <=50K\n",
      "4     Doctorate    Male              40   >50K\n"
     ]
    }
   ],
   "source": [
    "# form a list of column labels\n",
    "cols = [\"education\", \"sex\", \"hours_per_week\", \"income\"]\n",
    "\n",
    "# form the subset\n",
    "subset = adult_income[cols]\n",
    "\n",
    "# display first few rows\n",
    "print(subset.head())"
   ]
  },
  {
   "cell_type": "markdown",
   "metadata": {},
   "source": [
    "Note that if the list has a single column name, the result is a DataFrame with one-column, which is different from a Series. Let's try it:"
   ]
  },
  {
   "cell_type": "code",
   "execution_count": 7,
   "metadata": {},
   "outputs": [
    {
     "name": "stdout",
     "output_type": "stream",
     "text": [
      "      education\n",
      "0  Some-college\n",
      "1  Some-college\n",
      "2       HS-grad\n",
      "3       HS-grad\n",
      "4     Doctorate\n"
     ]
    }
   ],
   "source": [
    "cols = [\"education\"]\n",
    "subset = adult_income[cols]\n",
    "print(subset.head())"
   ]
  },
  {
   "cell_type": "markdown",
   "metadata": {},
   "source": [
    "#### Column name as attribute of the DataFrame"
   ]
  },
  {
   "cell_type": "code",
   "execution_count": 8,
   "metadata": {},
   "outputs": [
    {
     "name": "stdout",
     "output_type": "stream",
     "text": [
      "0    Some-college\n",
      "1    Some-college\n",
      "2         HS-grad\n",
      "3         HS-grad\n",
      "4       Doctorate\n",
      "Name: education, dtype: object\n"
     ]
    }
   ],
   "source": [
    "selected_col = adult_income.education\n",
    "\n",
    "# display first few elements\n",
    "print(selected_col.head())"
   ]
  },
  {
   "cell_type": "markdown",
   "metadata": {},
   "source": [
    "#### Selecting subset of rows using []"
   ]
  },
  {
   "cell_type": "markdown",
   "metadata": {},
   "source": [
    "DataFrame[start:stop]"
   ]
  },
  {
   "cell_type": "code",
   "execution_count": 9,
   "metadata": {},
   "outputs": [
    {
     "name": "stdout",
     "output_type": "stream",
     "text": [
      "       education  edu_yrs     sex  capital_gain  hours_per_week income\n",
      "5        HS-grad        9    Male             0              20  <=50K\n",
      "6           11th        7    Male             0              40  <=50K\n",
      "7        HS-grad        9    Male             0              20  <=50K\n",
      "8   Some-college       10  Female          8614              39   >50K\n",
      "9        1st-4th        2    Male             0              35  <=50K\n",
      "10  Some-college       10    Male             0              40  <=50K\n"
     ]
    }
   ],
   "source": [
    "# subset of DataFrame from row 5 to row 10\n",
    "print(adult_income[5:11])"
   ]
  },
  {
   "cell_type": "code",
   "execution_count": 10,
   "metadata": {},
   "outputs": [
    {
     "name": "stdout",
     "output_type": "stream",
     "text": [
      "      education  edu_yrs     sex  capital_gain  hours_per_week income\n",
      "0  Some-college       10    Male             0              40  <=50K\n",
      "1  Some-college       10    Male             0              45  <=50K\n",
      "2       HS-grad        9    Male             0              50   >50K\n",
      "3       HS-grad        9  Female             0              50  <=50K\n",
      "4     Doctorate       16    Male             0              40   >50K\n",
      "5       HS-grad        9    Male             0              20  <=50K\n"
     ]
    }
   ],
   "source": [
    "# subset of DataFrame from row 1 to row 5\n",
    "print(adult_income[:6])"
   ]
  },
  {
   "cell_type": "code",
   "execution_count": 11,
   "metadata": {},
   "outputs": [
    {
     "name": "stdout",
     "output_type": "stream",
     "text": [
      "    education  edu_yrs     sex  capital_gain  hours_per_week income\n",
      "325       9th        5  Female             0              40  <=50K\n"
     ]
    }
   ],
   "source": [
    "# the last row\n",
    "print(adult_income[-1:])"
   ]
  },
  {
   "cell_type": "markdown",
   "metadata": {},
   "source": [
    "Note: adult_income[3] does not work, because Pandas will look for a column with label 3. We must use slices to select rows with []."
   ]
  },
  {
   "cell_type": "markdown",
   "metadata": {},
   "source": [
    "To recap, we can use [] in three ways.\n",
    "\n",
    "    \"column_name\" — result is a single column as a Series\n",
    "    [\"col1\", \"col2\"] — result is a DataFrame with the list of columns\n",
    "    start:stop — result is a DataFrame with rows from position start to stop-1"
   ]
  },
  {
   "cell_type": "markdown",
   "metadata": {},
   "source": [
    "#### Indexing and slicing with iloc"
   ]
  },
  {
   "cell_type": "markdown",
   "metadata": {},
   "source": [
    "DataFrame.iloc[rows, columns]"
   ]
  },
  {
   "cell_type": "markdown",
   "metadata": {},
   "source": [
    "The rows and columns parameters in iloc accept three kinds of arguments:\n",
    "\n",
    "    integer — position of the row / column we want\n",
    "    list of integers — positions of rows / columns we want\n",
    "    slice object (start:stop) — range of rows / columns positions we want"
   ]
  },
  {
   "cell_type": "markdown",
   "metadata": {},
   "source": [
    "##### Selecting by lists / slices with iloc"
   ]
  },
  {
   "cell_type": "code",
   "execution_count": 12,
   "metadata": {},
   "outputs": [
    {
     "name": "stdout",
     "output_type": "stream",
     "text": [
      "      education  edu_yrs   sex  capital_gain  hours_per_week income\n",
      "0  Some-college       10  Male             0              40  <=50K\n",
      "1  Some-college       10  Male             0              45  <=50K\n",
      "2       HS-grad        9  Male             0              50   >50K\n",
      "5       HS-grad        9  Male             0              20  <=50K\n"
     ]
    }
   ],
   "source": [
    "subset = adult_income.iloc[[0,1,2,5], :]\n",
    "print(subset)"
   ]
  },
  {
   "cell_type": "code",
   "execution_count": 13,
   "metadata": {},
   "outputs": [
    {
     "name": "stdout",
     "output_type": "stream",
     "text": [
      "      education  edu_yrs     sex\n",
      "0  Some-college       10    Male\n",
      "1  Some-college       10    Male\n",
      "2       HS-grad        9    Male\n",
      "3       HS-grad        9  Female\n",
      "4     Doctorate       16    Male\n"
     ]
    }
   ],
   "source": [
    "subset = adult_income.iloc[:, 0:3]\n",
    "print(subset.head())"
   ]
  },
  {
   "cell_type": "markdown",
   "metadata": {},
   "source": [
    "#### Selecting by single value with iloc"
   ]
  },
  {
   "cell_type": "markdown",
   "metadata": {},
   "source": [
    " selecting a single column returns a Series"
   ]
  },
  {
   "cell_type": "code",
   "execution_count": 14,
   "metadata": {},
   "outputs": [
    {
     "name": "stdout",
     "output_type": "stream",
     "text": [
      "0      Male\n",
      "1      Male\n",
      "2      Male\n",
      "3    Female\n",
      "4      Male\n",
      "Name: sex, dtype: object\n"
     ]
    }
   ],
   "source": [
    "column = adult_income.iloc[:, 2]\n",
    "print(column.head())"
   ]
  },
  {
   "cell_type": "markdown",
   "metadata": {},
   "source": [
    "Similarly, selecting a single row also returns a Series"
   ]
  },
  {
   "cell_type": "code",
   "execution_count": 15,
   "metadata": {},
   "outputs": [
    {
     "name": "stdout",
     "output_type": "stream",
     "text": [
      "education         Doctorate\n",
      "edu_yrs                  16\n",
      "sex                    Male\n",
      "capital_gain              0\n",
      "hours_per_week           40\n",
      "income                 >50K\n",
      "Name: 4, dtype: object\n"
     ]
    }
   ],
   "source": [
    "row = adult_income.iloc[4, :]\n",
    "print(row)"
   ]
  },
  {
   "cell_type": "markdown",
   "metadata": {},
   "source": [
    "Finally, selecting a single row and a single column just gives the actual data:"
   ]
  },
  {
   "cell_type": "code",
   "execution_count": 16,
   "metadata": {},
   "outputs": [
    {
     "name": "stdout",
     "output_type": "stream",
     "text": [
      "Male\n"
     ]
    }
   ],
   "source": [
    "value = adult_income.iloc[4, 2]\n",
    "print(value)"
   ]
  },
  {
   "cell_type": "markdown",
   "metadata": {},
   "source": [
    "#### Indexing and slicing with loc"
   ]
  },
  {
   "cell_type": "markdown",
   "metadata": {},
   "source": [
    "DataFrame.loc[rows, columns]"
   ]
  },
  {
   "cell_type": "markdown",
   "metadata": {},
   "source": [
    "Both rows and columns parameters accept the three argument types that we have discussed so far — a single value, a list of values, and a slice."
   ]
  },
  {
   "cell_type": "markdown",
   "metadata": {},
   "source": [
    "The main differences are that:\n",
    "\n",
    "    The rows and columns parameter take the index labels, and not the positions.\n",
    "        For rows, so far in the tutorial our row index labels have been the same as position, starting at 0 and going up to n-1. But this will not be true always.\n",
    "        For columns, the index labels are the column names.\n",
    "    For slices, both start and stop are included in the subset."
   ]
  },
  {
   "cell_type": "markdown",
   "metadata": {},
   "source": [
    "Let's select rows with index labels 10 to 15 (both inclusive), and columns from edu_yrs to hours_per_week (again, both inclusive)."
   ]
  },
  {
   "cell_type": "code",
   "execution_count": 17,
   "metadata": {},
   "outputs": [
    {
     "name": "stdout",
     "output_type": "stream",
     "text": [
      "    edu_yrs     sex  capital_gain  hours_per_week\n",
      "10       10    Male             0              40\n",
      "11       10  Female             0              60\n",
      "12        9  Female             0              40\n",
      "13        9  Female          2202              35\n",
      "14       10    Male          2202              50\n",
      "15        9  Female             0              40\n"
     ]
    }
   ],
   "source": [
    "subset = adult_income.loc[10:15, 'edu_yrs':'hours_per_week']\n",
    "print(subset)"
   ]
  },
  {
   "cell_type": "code",
   "execution_count": 18,
   "metadata": {},
   "outputs": [
    {
     "name": "stdout",
     "output_type": "stream",
     "text": [
      "      education  edu_yrs     sex  capital_gain  hours_per_week income\n",
      "2       HS-grad        9    Male             0              50   >50K\n",
      "4     Doctorate       16    Male             0              40   >50K\n",
      "6          11th        7    Male             0              40  <=50K\n",
      "8  Some-college       10  Female          8614              39   >50K\n"
     ]
    }
   ],
   "source": [
    "subset = adult_income.loc[[2, 4, 6, 8], :]\n",
    "print(subset)"
   ]
  },
  {
   "cell_type": "code",
   "execution_count": 19,
   "metadata": {},
   "outputs": [
    {
     "name": "stdout",
     "output_type": "stream",
     "text": [
      "        education  edu_yrs     sex  capital_gain  hours_per_week income\n",
      "100  Some-college       10    Male             0              40   >50K\n",
      "101       HS-grad        9  Female             0              40  <=50K\n",
      "102       7th-8th        4    Male             0              40  <=50K\n",
      "103     Bachelors       13    Male             0              60   >50K\n",
      "104     Bachelors       13  Female             0              40  <=50K\n"
     ]
    }
   ],
   "source": [
    "df_100 = adult_income.iloc[100:, :]\n",
    "# display first few rows\n",
    "print(df_100.head())"
   ]
  },
  {
   "cell_type": "code",
   "execution_count": 20,
   "metadata": {},
   "outputs": [
    {
     "name": "stdout",
     "output_type": "stream",
     "text": [
      ".loc[105:110, :] -- gives rows matching that *index*\n",
      "     education  edu_yrs   sex  capital_gain  hours_per_week income\n",
      "105  Bachelors       13  Male             0              40   >50K\n",
      "106       11th        7  Male             0              40  <=50K\n",
      "107       11th        7  Male             0              36  <=50K\n",
      "108  Bachelors       13  Male             0              52   >50K\n",
      "109  Bachelors       13  Male          5178              40   >50K\n",
      "110       11th        7  Male             0              55  <=50K\n",
      "\n",
      "[105:110] -- (without loc) gives rows from *position* 105 to 110\n",
      "        education  edu_yrs     sex  capital_gain  hours_per_week income\n",
      "205  Some-college       10    Male          5178              40   >50K\n",
      "206       HS-grad        9  Female             0              32  <=50K\n",
      "207       HS-grad        9    Male             0              40  <=50K\n",
      "208       HS-grad        9  Female             0              40  <=50K\n",
      "209          11th        7  Female             0              10  <=50K\n",
      "\n",
      "iloc[105:110, :] -- also gives rows from *position* 105 to 110\n",
      "        education  edu_yrs     sex  capital_gain  hours_per_week income\n",
      "205  Some-college       10    Male          5178              40   >50K\n",
      "206       HS-grad        9  Female             0              32  <=50K\n",
      "207       HS-grad        9    Male             0              40  <=50K\n",
      "208       HS-grad        9  Female             0              40  <=50K\n",
      "209          11th        7  Female             0              10  <=50K\n"
     ]
    }
   ],
   "source": [
    "print('.loc[105:110, :] -- gives rows matching that *index*')\n",
    "print(df_100.loc[105:110, :])\n",
    "print('')\n",
    "print('[105:110] -- (without loc) gives rows from *position* 105 to 110')\n",
    "print(df_100[105:110])\n",
    "print('')\n",
    "print('iloc[105:110, :] -- also gives rows from *position* 105 to 110')\n",
    "print(df_100.iloc[105:110, :])"
   ]
  },
  {
   "cell_type": "markdown",
   "metadata": {},
   "source": [
    "#### Single value with loc"
   ]
  },
  {
   "cell_type": "code",
   "execution_count": 22,
   "metadata": {},
   "outputs": [
    {
     "name": "stdout",
     "output_type": "stream",
     "text": [
      "0      Male\n",
      "1      Male\n",
      "2      Male\n",
      "3    Female\n",
      "4      Male\n",
      "Name: sex, dtype: object\n"
     ]
    }
   ],
   "source": [
    "column = adult_income.loc[:, \"sex\"]\n",
    "print(column.head())"
   ]
  },
  {
   "cell_type": "markdown",
   "metadata": {},
   "source": [
    "Similarly, selecting a single row also returns a Series."
   ]
  },
  {
   "cell_type": "code",
   "execution_count": 23,
   "metadata": {},
   "outputs": [
    {
     "name": "stdout",
     "output_type": "stream",
     "text": [
      "education         HS-grad\n",
      "edu_yrs                 9\n",
      "sex                  Male\n",
      "capital_gain            0\n",
      "hours_per_week         50\n",
      "income               >50K\n",
      "Name: 2, dtype: object\n"
     ]
    }
   ],
   "source": [
    "row = adult_income.loc[2, :]\n",
    "print(row)"
   ]
  },
  {
   "cell_type": "code",
   "execution_count": 24,
   "metadata": {},
   "outputs": [
    {
     "name": "stdout",
     "output_type": "stream",
     "text": [
      "sex of person at row index 2\n",
      "Male\n",
      "education of person at row index 4\n",
      "Doctorate\n"
     ]
    }
   ],
   "source": [
    "print('sex of person at row index 2')\n",
    "print(adult_income.loc[2, 'sex'])\n",
    "print('education of person at row index 4')\n",
    "print(adult_income.loc[4, 'education'])"
   ]
  },
  {
   "cell_type": "markdown",
   "metadata": {},
   "source": [
    "#### Chained Indexing"
   ]
  },
  {
   "cell_type": "markdown",
   "metadata": {},
   "source": [
    "This took place in two steps:"
   ]
  },
  {
   "cell_type": "code",
   "execution_count": 25,
   "metadata": {},
   "outputs": [
    {
     "name": "stdout",
     "output_type": "stream",
     "text": [
      "        education  edu_yrs     sex  capital_gain  hours_per_week income\n",
      "205  Some-college       10    Male          5178              40   >50K\n",
      "206       HS-grad        9  Female             0              32  <=50K\n",
      "207       HS-grad        9    Male             0              40  <=50K\n",
      "208       HS-grad        9  Female             0              40  <=50K\n",
      "209          11th        7  Female             0              10  <=50K\n"
     ]
    }
   ],
   "source": [
    "df_100 = adult_income.iloc[100:, :]\n",
    "\n",
    "print(df_100.iloc[105:110, :])"
   ]
  },
  {
   "cell_type": "markdown",
   "metadata": {},
   "source": [
    "one liner"
   ]
  },
  {
   "cell_type": "code",
   "execution_count": 26,
   "metadata": {},
   "outputs": [
    {
     "name": "stdout",
     "output_type": "stream",
     "text": [
      "        education  edu_yrs     sex  capital_gain  hours_per_week income\n",
      "205  Some-college       10    Male          5178              40   >50K\n",
      "206       HS-grad        9  Female             0              32  <=50K\n",
      "207       HS-grad        9    Male             0              40  <=50K\n",
      "208       HS-grad        9  Female             0              40  <=50K\n",
      "209          11th        7  Female             0              10  <=50K\n"
     ]
    }
   ],
   "source": [
    "subset = adult_income.iloc[100:, :].iloc[105:110, :]\n",
    "print(subset)"
   ]
  },
  {
   "cell_type": "markdown",
   "metadata": {},
   "source": [
    "Let's see another example of selecting a subset. This time we will select the rows 25 to 30 (by position) and columns income and education. But, we will not use loc or iloc, only the [] which we learnt about at the beginning."
   ]
  },
  {
   "cell_type": "markdown",
   "metadata": {},
   "source": [
    "Since [] only takes a single argument, we will use chain indexing to achieve this:"
   ]
  },
  {
   "cell_type": "code",
   "execution_count": 27,
   "metadata": {},
   "outputs": [
    {
     "name": "stdout",
     "output_type": "stream",
     "text": [
      "      education income\n",
      "25      HS-grad  <=50K\n",
      "26  Prof-school   >50K\n",
      "27      HS-grad  <=50K\n",
      "28    Bachelors  <=50K\n",
      "29    Bachelors  <=50K\n"
     ]
    }
   ],
   "source": [
    "subset = adult_income[25:30][['education', 'income']]\n",
    "print(subset)"
   ]
  },
  {
   "cell_type": "markdown",
   "metadata": {},
   "source": [
    "Note: Chained indexing is actually a two-step process. Writing things in one line is just convenience, but it's not more computationally efficient for the program. So in the above example, first [25:30] operation selects the rows and creates a temporary DataFrame. Then [['education', 'income']] operation takes place, which selects the columns on the result returned from the first operation."
   ]
  },
  {
   "cell_type": "code",
   "execution_count": 28,
   "metadata": {},
   "outputs": [
    {
     "name": "stdout",
     "output_type": "stream",
     "text": [
      "selecting the hours_per_week value from row at position 10\n",
      "40\n"
     ]
    }
   ],
   "source": [
    "print('selecting the hours_per_week value from row at position 10')\n",
    "print(adult_income.iloc[10, :].loc['hours_per_week'])"
   ]
  },
  {
   "cell_type": "markdown",
   "metadata": {},
   "source": [
    "#### summary"
   ]
  },
  {
   "cell_type": "markdown",
   "metadata": {},
   "source": [
    "\n",
    "\n",
    "    Pandas provides many ways of getting a subset of data from a DataFrame. In this tutorial, we learnt about [], .iloc[,] and .loc[,].\n",
    "    When using the [] operation\n",
    "        We can provide a column name or list of column names — DataFrame[column_name] and DataFrame[list of columns labels]\n",
    "        Or we can provide a slice which selects rows by position — DataFrame[start:stop]\n",
    "    DataFrame.iloc[rows,columns] — selects a subset of rows and columns by position\n",
    "    DataFrame.loc[rows,columns] — selects a subset of rows and columns by label\n",
    "    Both loc and iloc accept three types of parameters — single value, list of values, and slices.\n",
    "    When we perform two or more indexing operations in a single expression, it is known as chained indexing.\n",
    "    When selecting columns, it's more natural to select by name. When selecting rows, it's more natural to select by position. "
   ]
  },
  {
   "cell_type": "markdown",
   "metadata": {},
   "source": [
    "# 0.4 Criteria Based Selection"
   ]
  },
  {
   "cell_type": "markdown",
   "metadata": {},
   "source": [
    "#### Selection using Boolean Array (Boolean Indexing)"
   ]
  },
  {
   "cell_type": "code",
   "execution_count": 30,
   "metadata": {},
   "outputs": [
    {
     "name": "stdout",
     "output_type": "stream",
     "text": [
      "0    False\n",
      "1    False\n",
      "2    False\n",
      "3    False\n",
      "4     True\n",
      "5    False\n",
      "6    False\n",
      "7    False\n",
      "8    False\n",
      "9    False\n",
      "Name: edu_yrs, dtype: bool\n"
     ]
    }
   ],
   "source": [
    "# create boolean array\n",
    "b_arr = adult_income[\"edu_yrs\"] >= 12\n",
    "\n",
    "# print the first 10 values\n",
    "print(b_arr.head(10))"
   ]
  },
  {
   "cell_type": "markdown",
   "metadata": {},
   "source": [
    "The array created is actually a Pandas Series with elements of datatype bool — so all the values are True or False. "
   ]
  },
  {
   "cell_type": "code",
   "execution_count": 31,
   "metadata": {},
   "outputs": [
    {
     "name": "stdout",
     "output_type": "stream",
     "text": [
      "      education  edu_yrs     sex  capital_gain  hours_per_week income\n",
      "4     Doctorate       16    Male             0              40   >50K\n",
      "16    Bachelors       13    Male             0              40   >50K\n",
      "22    Bachelors       13  Female             0              40  <=50K\n",
      "26  Prof-school       15    Male             0              50   >50K\n",
      "28    Bachelors       13  Female             0              40  <=50K\n"
     ]
    }
   ],
   "source": [
    "# selection of subset\n",
    "temp_df = adult_income[b_arr]\n",
    "\n",
    "# display first few elements\n",
    "print(temp_df.head())"
   ]
  },
  {
   "cell_type": "markdown",
   "metadata": {},
   "source": [
    "We can also use loc to perform Boolean Indexing, which works exactly the same way."
   ]
  },
  {
   "cell_type": "code",
   "execution_count": 32,
   "metadata": {},
   "outputs": [
    {
     "name": "stdout",
     "output_type": "stream",
     "text": [
      "      education  edu_yrs     sex  capital_gain  hours_per_week income\n",
      "4     Doctorate       16    Male             0              40   >50K\n",
      "16    Bachelors       13    Male             0              40   >50K\n",
      "22    Bachelors       13  Female             0              40  <=50K\n",
      "26  Prof-school       15    Male             0              50   >50K\n",
      "28    Bachelors       13  Female             0              40  <=50K\n"
     ]
    }
   ],
   "source": [
    "temp_df = adult_income.loc[adult_income[\"edu_yrs\"]>=12, :]\n",
    "print(temp_df.head())"
   ]
  },
  {
   "cell_type": "markdown",
   "metadata": {},
   "source": [
    "#### Criterias using logical operations — and, or, not"
   ]
  },
  {
   "cell_type": "code",
   "execution_count": 33,
   "metadata": {},
   "outputs": [
    {
     "name": "stdout",
     "output_type": "stream",
     "text": [
      "     education  edu_yrs     sex  capital_gain  hours_per_week income\n",
      "22   Bachelors       13  Female             0              40  <=50K\n",
      "28   Bachelors       13  Female             0              40  <=50K\n",
      "37   Bachelors       13  Female             0              45  <=50K\n",
      "60   Bachelors       13  Female             0              55   >50K\n",
      "61  Assoc-acdm       12  Female             0              40  <=50K\n"
     ]
    }
   ],
   "source": [
    "# create boolean array\n",
    "b_arr = (adult_income[\"edu_yrs\"] >= 12) & (adult_income[\"sex\"] == 'Female')\n",
    "\n",
    "# selection of subset\n",
    "temp_df = adult_income[b_arr]\n",
    "\n",
    "# display first few elements\n",
    "print(temp_df.head())"
   ]
  },
  {
   "cell_type": "code",
   "execution_count": 34,
   "metadata": {},
   "outputs": [
    {
     "name": "stdout",
     "output_type": "stream",
     "text": [
      "       education  edu_yrs     sex  capital_gain  hours_per_week income\n",
      "2        HS-grad        9    Male             0              50   >50K\n",
      "4      Doctorate       16    Male             0              40   >50K\n",
      "8   Some-college       10  Female          8614              39   >50K\n",
      "13       HS-grad        9  Female          2202              35  <=50K\n",
      "14  Some-college       10    Male          2202              50  <=50K\n",
      "16     Bachelors       13    Male             0              40   >50K\n",
      "26   Prof-school       15    Male             0              50   >50K\n",
      "27       HS-grad        9    Male          2463              40  <=50K\n",
      "30       Masters       14    Male             0              40   >50K\n",
      "31  Some-college       10    Male          4787              50   >50K\n"
     ]
    }
   ],
   "source": [
    "# create boolean array\n",
    "b_arr = (adult_income[\"capital_gain\"] > 1000) | (adult_income[\"income\"] == '>50K')\n",
    "\n",
    "# selection of subset\n",
    "temp_df = adult_income[b_arr]\n",
    "\n",
    "# display first 10 elements\n",
    "print(temp_df.head(10))"
   ]
  },
  {
   "cell_type": "code",
   "execution_count": 35,
   "metadata": {},
   "outputs": [
    {
     "name": "stdout",
     "output_type": "stream",
     "text": [
      "       education  edu_yrs     sex  capital_gain  hours_per_week income\n",
      "0   Some-college       10    Male             0              40  <=50K\n",
      "1   Some-college       10    Male             0              45  <=50K\n",
      "2        HS-grad        9    Male             0              50   >50K\n",
      "3        HS-grad        9  Female             0              50  <=50K\n",
      "5        HS-grad        9    Male             0              20  <=50K\n",
      "6           11th        7    Male             0              40  <=50K\n",
      "7        HS-grad        9    Male             0              20  <=50K\n",
      "8   Some-college       10  Female          8614              39   >50K\n",
      "9        1st-4th        2    Male             0              35  <=50K\n",
      "10  Some-college       10    Male             0              40  <=50K\n"
     ]
    }
   ],
   "source": [
    "# create boolean array\n",
    "b_arr = ~(adult_income[\"education\"] == 'Doctorate')\n",
    "\n",
    "# selection of subset\n",
    "temp_df = adult_income[b_arr]\n",
    "\n",
    "# display first 10 elements\n",
    "print(temp_df.head(10))"
   ]
  },
  {
   "cell_type": "markdown",
   "metadata": {},
   "source": [
    "#### Selection based on datatypes"
   ]
  },
  {
   "cell_type": "markdown",
   "metadata": {},
   "source": [
    "DataFrame.select_dtypes(include=\"\", exclude=\"\")"
   ]
  },
  {
   "cell_type": "markdown",
   "metadata": {},
   "source": [
    "Some common valid strings for dtypes are:\n",
    "\n",
    "    'int' : for integers\n",
    "    'float' : for floating point numbers\n",
    "    'bool' : Boolean data type\n",
    "    'number' : all numeric types\n",
    "    'categorical' : for pandas dtype categorical\n",
    "    'object': all object data types, generally strings are the only object datatypes\n",
    "    'datetime' and 'timedelta': these are datatypes related to time and date. We will learn about these in a later tutorial."
   ]
  },
  {
   "cell_type": "code",
   "execution_count": 36,
   "metadata": {},
   "outputs": [
    {
     "name": "stdout",
     "output_type": "stream",
     "text": [
      "   edu_yrs  capital_gain  hours_per_week\n",
      "0       10             0              40\n",
      "1       10             0              45\n",
      "2        9             0              50\n",
      "3        9             0              50\n",
      "4       16             0              40\n"
     ]
    }
   ],
   "source": [
    "# select numeric dtypes\n",
    "df_temp = adult_income.select_dtypes(include='number')\n",
    "\n",
    "# display first few elements\n",
    "print(df_temp.head())"
   ]
  },
  {
   "cell_type": "markdown",
   "metadata": {},
   "source": [
    "#### summary"
   ]
  },
  {
   "cell_type": "markdown",
   "metadata": {},
   "source": [
    "\n",
    "    With Boolean Indexing, we can select DataFrame rows satisfying some criteria\n",
    "    We can define criterias / Boolean arrays using comparison operations (using ==, >, etc) and logical operations (using &, | and ~)\n",
    "    We can also selectively keep columns with particular datatypes using select_dtypes()"
   ]
  },
  {
   "cell_type": "markdown",
   "metadata": {},
   "source": [
    "# 0.5 Modifying DataFrames"
   ]
  },
  {
   "cell_type": "markdown",
   "metadata": {},
   "source": [
    "#### Modifying specific values in a DataFrame"
   ]
  },
  {
   "cell_type": "code",
   "execution_count": 54,
   "metadata": {},
   "outputs": [],
   "source": [
    "adult_income = pd.read_csv(\"data/adult_income_data_small.csv\")"
   ]
  },
  {
   "cell_type": "code",
   "execution_count": 38,
   "metadata": {},
   "outputs": [
    {
     "name": "stdout",
     "output_type": "stream",
     "text": [
      "education         HS-grad\n",
      "edu_yrs                 9\n",
      "sex                  Male\n",
      "capital_gain            0\n",
      "hours_per_week         50\n",
      "income               >50K\n",
      "Name: 2, dtype: object\n"
     ]
    }
   ],
   "source": [
    "print(adult_income.loc[2, :])"
   ]
  },
  {
   "cell_type": "markdown",
   "metadata": {},
   "source": [
    "As you can see, the initial value for the element in the row with index 2 and column label education is 'HS-grad'.\n",
    "\n",
    "Now we will assign it the value 'College':"
   ]
  },
  {
   "cell_type": "code",
   "execution_count": 39,
   "metadata": {},
   "outputs": [
    {
     "name": "stdout",
     "output_type": "stream",
     "text": [
      "education         College\n",
      "edu_yrs                 9\n",
      "sex                  Male\n",
      "capital_gain            0\n",
      "hours_per_week         50\n",
      "income               >50K\n",
      "Name: 2, dtype: object\n"
     ]
    }
   ],
   "source": [
    "adult_income.loc[2, 'education'] = 'College'\n",
    "\n",
    "# print row index 2 to verify modification\n",
    "print(adult_income.loc[2, :])"
   ]
  },
  {
   "cell_type": "markdown",
   "metadata": {},
   "source": [
    "#### Modifying values based on criteria (Boolean indexing)"
   ]
  },
  {
   "cell_type": "code",
   "execution_count": 40,
   "metadata": {},
   "outputs": [
    {
     "name": "stdout",
     "output_type": "stream",
     "text": [
      "     education  edu_yrs     sex  capital_gain  hours_per_week income\n",
      "4    Doctorate       16    Male             0              40   >50K\n",
      "75   Doctorate       16    Male             0              40  <=50K\n",
      "211  Doctorate       16  Female             0              48   >50K\n",
      "280  Doctorate       16    Male             0              35   >50K\n"
     ]
    }
   ],
   "source": [
    "print(adult_income.loc[adult_income[\"edu_yrs\"] >= 16, :])"
   ]
  },
  {
   "cell_type": "code",
   "execution_count": 41,
   "metadata": {},
   "outputs": [
    {
     "name": "stdout",
     "output_type": "stream",
     "text": [
      "      education  edu_yrs     sex  capital_gain  hours_per_week income\n",
      "0  Some-college       10    Male             0              40  <=50K\n",
      "1  Some-college       10    Male             0              45  <=50K\n",
      "2       College        9    Male             0              50   >50K\n",
      "3       HS-grad        9  Female             0              50  <=50K\n",
      "4     Doctorate       16    Male             0              40   >50K\n"
     ]
    }
   ],
   "source": [
    "print(adult_income.head())"
   ]
  },
  {
   "cell_type": "markdown",
   "metadata": {},
   "source": [
    "Now, we'll select these rows again and modify the education column by assigning it the value 'Ph.D.'."
   ]
  },
  {
   "cell_type": "code",
   "execution_count": 42,
   "metadata": {},
   "outputs": [
    {
     "name": "stdout",
     "output_type": "stream",
     "text": [
      "    education  edu_yrs     sex  capital_gain  hours_per_week income\n",
      "4       Ph.D.       16    Male             0              40   >50K\n",
      "75      Ph.D.       16    Male             0              40  <=50K\n",
      "211     Ph.D.       16  Female             0              48   >50K\n",
      "280     Ph.D.       16    Male             0              35   >50K\n",
      "\n",
      "      education  edu_yrs     sex  capital_gain  hours_per_week income\n",
      "0  Some-college       10    Male             0              40  <=50K\n",
      "1  Some-college       10    Male             0              45  <=50K\n",
      "2       College        9    Male             0              50   >50K\n",
      "3       HS-grad        9  Female             0              50  <=50K\n",
      "4         Ph.D.       16    Male             0              40   >50K\n"
     ]
    }
   ],
   "source": [
    "adult_income.loc[adult_income[\"edu_yrs\"] >= 16, 'education'] = 'Ph.D.'\n",
    "\n",
    "# Print the rows to verify the modification\n",
    "print(adult_income.loc[adult_income[\"edu_yrs\"] >= 16, :])\n",
    "print('')\n",
    "\n",
    "# Also make sure only the *selected rows* got modified\n",
    "print(adult_income.head())"
   ]
  },
  {
   "cell_type": "markdown",
   "metadata": {},
   "source": [
    "#### Modifying columns"
   ]
  },
  {
   "cell_type": "markdown",
   "metadata": {},
   "source": [
    "##### Modifying column datatype"
   ]
  },
  {
   "cell_type": "markdown",
   "metadata": {},
   "source": [
    "Before we modify the data itself, let us see how to change the datatype (dtype) of columns in our DataFrame.\n",
    "\n",
    "Let's start by taking a look at the dtypes of different columns in our DataFrame."
   ]
  },
  {
   "cell_type": "code",
   "execution_count": 43,
   "metadata": {},
   "outputs": [
    {
     "name": "stdout",
     "output_type": "stream",
     "text": [
      "<class 'pandas.core.frame.DataFrame'>\n",
      "RangeIndex: 326 entries, 0 to 325\n",
      "Data columns (total 6 columns):\n",
      " #   Column          Non-Null Count  Dtype \n",
      "---  ------          --------------  ----- \n",
      " 0   education       326 non-null    object\n",
      " 1   edu_yrs         326 non-null    int64 \n",
      " 2   sex             326 non-null    object\n",
      " 3   capital_gain    326 non-null    int64 \n",
      " 4   hours_per_week  326 non-null    int64 \n",
      " 5   income          326 non-null    object\n",
      "dtypes: int64(3), object(3)\n",
      "memory usage: 15.4+ KB\n"
     ]
    }
   ],
   "source": [
    "adult_income.info()"
   ]
  },
  {
   "cell_type": "markdown",
   "metadata": {},
   "source": [
    "Although the read_csv() function assigns columns like sex and income as object dtype, for categorical variables a more suitable dtype called category exists in Pandas. Changing to category dtype for these columns saves space, and also allows us to use other helpful functions to find number of unique values, etc. "
   ]
  },
  {
   "cell_type": "markdown",
   "metadata": {},
   "source": [
    "DataFrame[\"column_name\"].astype(dtype)"
   ]
  },
  {
   "cell_type": "markdown",
   "metadata": {},
   "source": [
    "Here the dtype argument specifies the datatype to which we want to convert. This function returns the column with the changed dtype. "
   ]
  },
  {
   "cell_type": "code",
   "execution_count": 50,
   "metadata": {},
   "outputs": [
    {
     "name": "stdout",
     "output_type": "stream",
     "text": [
      "Check the dtypes after converting\n",
      "<class 'pandas.core.frame.DataFrame'>\n",
      "RangeIndex: 326 entries, 0 to 325\n",
      "Data columns (total 8 columns):\n",
      " #   Column          Non-Null Count  Dtype   \n",
      "---  ------          --------------  -----   \n",
      " 0   education       326 non-null    category\n",
      " 1   edu_yrs         326 non-null    int64   \n",
      " 2   sex             326 non-null    object  \n",
      " 3   capital_gain    326 non-null    int64   \n",
      " 4   hours_per_week  326 non-null    int64   \n",
      " 5   income          326 non-null    category\n",
      " 6   hours_per_day   326 non-null    float64 \n",
      " 7   product         326 non-null    int64   \n",
      "dtypes: category(2), float64(1), int64(4), object(1)\n",
      "memory usage: 16.9+ KB\n"
     ]
    }
   ],
   "source": [
    "adult_income[\"income\"] = adult_income[\"income\"].astype('category')\n",
    "\n",
    "# check the datatypes\n",
    "print(\"Check the dtypes after converting\")\n",
    "adult_income.info()"
   ]
  },
  {
   "cell_type": "markdown",
   "metadata": {},
   "source": [
    "#### Creating new columns / Modifying column values"
   ]
  },
  {
   "cell_type": "markdown",
   "metadata": {},
   "source": [
    "DataFrame[\"new_column_name\"] = col_values"
   ]
  },
  {
   "cell_type": "markdown",
   "metadata": {},
   "source": [
    "The col_values can be:\n",
    "\n",
    "    an integer - the whole column is filled with the same integer,\n",
    "    an array or a Series - the length should be same as number of rows in the Dataframe"
   ]
  },
  {
   "cell_type": "markdown",
   "metadata": {},
   "source": [
    "#### Operations on columns"
   ]
  },
  {
   "cell_type": "code",
   "execution_count": 45,
   "metadata": {},
   "outputs": [
    {
     "name": "stdout",
     "output_type": "stream",
     "text": [
      "      education  edu_yrs     sex  capital_gain  hours_per_week income  \\\n",
      "0  Some-college       10    Male             0              40  <=50K   \n",
      "1  Some-college       10    Male             0              45  <=50K   \n",
      "2       College        9    Male             0              50   >50K   \n",
      "3       HS-grad        9  Female             0              50  <=50K   \n",
      "4         Ph.D.       16    Male             0              40   >50K   \n",
      "\n",
      "   hours_per_day  \n",
      "0            8.0  \n",
      "1            9.0  \n",
      "2           10.0  \n",
      "3           10.0  \n",
      "4            8.0  \n"
     ]
    }
   ],
   "source": [
    "adult_income[\"hours_per_day\"] = adult_income[\"hours_per_week\"] / 5\n",
    "\n",
    "print(adult_income.head())"
   ]
  },
  {
   "cell_type": "markdown",
   "metadata": {},
   "source": [
    "Note that after performing the operations, we don't need to necessarily put the results in the same DataFrame.\n",
    "\n",
    "For example, in the code below we are just storing the Series as a separate variable. "
   ]
  },
  {
   "cell_type": "code",
   "execution_count": 46,
   "metadata": {},
   "outputs": [
    {
     "name": "stdout",
     "output_type": "stream",
     "text": [
      "0     8.0\n",
      "1     9.0\n",
      "2    10.0\n",
      "3    10.0\n",
      "4     8.0\n",
      "Name: hours_per_week, dtype: float64\n"
     ]
    }
   ],
   "source": [
    "hours_per_day = adult_income[\"hours_per_week\"] / 5\n",
    "print(hours_per_day.head())"
   ]
  },
  {
   "cell_type": "markdown",
   "metadata": {},
   "source": [
    "NumPy functions such as np.exp() or np.log() which work on ndarrays, can also be used with Pandas Series (and DataFrames)."
   ]
  },
  {
   "cell_type": "code",
   "execution_count": 47,
   "metadata": {},
   "outputs": [
    {
     "name": "stdout",
     "output_type": "stream",
     "text": [
      "0    2.202647e+04\n",
      "1    2.202647e+04\n",
      "2    8.103084e+03\n",
      "3    8.103084e+03\n",
      "4    8.886111e+06\n",
      "Name: edu_yrs, dtype: float64\n"
     ]
    }
   ],
   "source": [
    "data = np.exp(adult_income[\"edu_yrs\"])\n",
    "print(data.head())"
   ]
  },
  {
   "cell_type": "markdown",
   "metadata": {},
   "source": [
    "#### Operations involving multiple columns"
   ]
  },
  {
   "cell_type": "code",
   "execution_count": 48,
   "metadata": {},
   "outputs": [
    {
     "name": "stdout",
     "output_type": "stream",
     "text": [
      "      education  edu_yrs     sex  capital_gain  hours_per_week income  \\\n",
      "0  Some-college       10    Male             0              40  <=50K   \n",
      "1  Some-college       10    Male             0              45  <=50K   \n",
      "2       College        9    Male             0              50   >50K   \n",
      "3       HS-grad        9  Female             0              50  <=50K   \n",
      "4         Ph.D.       16    Male             0              40   >50K   \n",
      "\n",
      "   hours_per_day  product  \n",
      "0            8.0      400  \n",
      "1            9.0      450  \n",
      "2           10.0      450  \n",
      "3           10.0      450  \n",
      "4            8.0      640  \n"
     ]
    }
   ],
   "source": [
    "adult_income[\"product\"] = adult_income[\"hours_per_week\"] * adult_income[\"edu_yrs\"]\n",
    "print(adult_income.head())"
   ]
  },
  {
   "cell_type": "markdown",
   "metadata": {},
   "source": [
    "Let's do another example. This time, let's combine two categorical features. Let's say we care about the combination feature (education, income)."
   ]
  },
  {
   "cell_type": "code",
   "execution_count": 55,
   "metadata": {},
   "outputs": [
    {
     "name": "stdout",
     "output_type": "stream",
     "text": [
      "      education  edu_yrs     sex  capital_gain  hours_per_week income  \\\n",
      "0  Some-college       10    Male             0              40  <=50K   \n",
      "1  Some-college       10    Male             0              45  <=50K   \n",
      "2       HS-grad        9    Male             0              50   >50K   \n",
      "3       HS-grad        9  Female             0              50  <=50K   \n",
      "4     Doctorate       16    Male             0              40   >50K   \n",
      "\n",
      "      edu_with_income  \n",
      "0  Some-college-<=50K  \n",
      "1  Some-college-<=50K  \n",
      "2        HS-grad->50K  \n",
      "3       HS-grad-<=50K  \n",
      "4      Doctorate->50K  \n"
     ]
    }
   ],
   "source": [
    "adult_income[\"edu_with_income\"] = adult_income[\"education\"]  + \"-\" + adult_income[\"income\"]\n",
    "print(adult_income.head())"
   ]
  },
  {
   "cell_type": "markdown",
   "metadata": {},
   "source": [
    "#### summary"
   ]
  },
  {
   "cell_type": "markdown",
   "metadata": {},
   "source": [
    "\n",
    "    We can modify subsets of the DataFrame by accessing the element with [], loc or iloc, and then assigning the new value. This includes modifying a single value or a subset of rows and columns.\n",
    "    We can selectively modify values from DataFrame using Boolean indexing. First we select the rows which match a criterion, and then assign new values to elements.\n",
    "    We can modify the dtype of a column with astype()\n",
    "    We can carry out element-wise operations. This includes operations between a column and a scalar, operations between two columns or applying a function element wise to the entire column.\n",
    "    We can create new columns using the same [] syntax used to select a column."
   ]
  },
  {
   "cell_type": "code",
   "execution_count": null,
   "metadata": {},
   "outputs": [],
   "source": []
  }
 ],
 "metadata": {
  "kernelspec": {
   "display_name": "Python 3",
   "language": "python",
   "name": "python3"
  },
  "language_info": {
   "codemirror_mode": {
    "name": "ipython",
    "version": 3
   },
   "file_extension": ".py",
   "mimetype": "text/x-python",
   "name": "python",
   "nbconvert_exporter": "python",
   "pygments_lexer": "ipython3",
   "version": "3.6.5"
  }
 },
 "nbformat": 4,
 "nbformat_minor": 4
}
