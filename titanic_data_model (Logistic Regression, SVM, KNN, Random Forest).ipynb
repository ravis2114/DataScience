{
 "cells": [
  {
   "cell_type": "markdown",
   "metadata": {
    "id": "Q7b6vjKYqc10"
   },
   "source": [
    "# Data Description"
   ]
  },
  {
   "cell_type": "code",
   "execution_count": 1,
   "metadata": {
    "id": "g4_j50Q-PUcZ"
   },
   "outputs": [
    {
     "name": "stdout",
     "output_type": "stream",
     "text": [
      "   PassengerId  Survived  Pclass  \\\n",
      "0            1         0       3   \n",
      "1            2         1       1   \n",
      "2            3         1       3   \n",
      "3            4         1       1   \n",
      "4            5         0       3   \n",
      "\n",
      "                                                Name     Sex   Age  SibSp  \\\n",
      "0                            Braund, Mr. Owen Harris    male  22.0      1   \n",
      "1  Cumings, Mrs. John Bradley (Florence Briggs Th...  female  38.0      1   \n",
      "2                             Heikkinen, Miss. Laina  female  26.0      0   \n",
      "3       Futrelle, Mrs. Jacques Heath (Lily May Peel)  female  35.0      1   \n",
      "4                           Allen, Mr. William Henry    male  35.0      0   \n",
      "\n",
      "   Parch            Ticket     Fare Cabin Embarked  \n",
      "0      0         A/5 21171   7.2500   NaN        S  \n",
      "1      0          PC 17599  71.2833   C85        C  \n",
      "2      0  STON/O2. 3101282   7.9250   NaN        S  \n",
      "3      0            113803  53.1000  C123        S  \n",
      "4      0            373450   8.0500   NaN        S  \n"
     ]
    }
   ],
   "source": [
    "import pandas as pd\n",
    "import numpy as np\n",
    "import matplotlib.pyplot as plt\n",
    "import seaborn as sns\n",
    "\n",
    "train_data = pd.read_csv('data/titanic/train.csv')\n",
    "test_data = pd.read_csv('data/titanic/test.csv')\n",
    "print(train_data.head())"
   ]
  },
  {
   "cell_type": "code",
   "execution_count": null,
   "metadata": {
    "id": "LM8hfOgPQELT"
   },
   "outputs": [],
   "source": [
    "print(train_data.info())"
   ]
  },
  {
   "cell_type": "code",
   "execution_count": null,
   "metadata": {
    "id": "uBTZ2pXJQaZo"
   },
   "outputs": [],
   "source": [
    "train_data.describe(include=['O']) "
   ]
  },
  {
   "cell_type": "code",
   "execution_count": null,
   "metadata": {
    "id": "RfPZCMG6Qg5h"
   },
   "outputs": [],
   "source": [
    "train_data = train_data.drop(labels=['PassengerId', 'Name', 'Ticket', 'Cabin'], axis=1) \n",
    "test_data = test_data.drop(labels=['PassengerId', 'Name', 'Ticket', 'Cabin'], axis=1) \n",
    "train_data.head() # check everything looks okay"
   ]
  },
  {
   "cell_type": "markdown",
   "metadata": {
    "id": "ebin4DGEquSi"
   },
   "source": [
    "# Data Exploration and Data Visualization"
   ]
  },
  {
   "cell_type": "code",
   "execution_count": null,
   "metadata": {
    "id": "K3xDHs0NQpbD"
   },
   "outputs": [],
   "source": [
    "train_data.Survived.value_counts().plot(kind='bar')\n",
    "plt.title(\"Distribution of Survival, (1 = Survived)\")"
   ]
  },
  {
   "cell_type": "code",
   "execution_count": null,
   "metadata": {
    "id": "olaODiPGQrmK"
   },
   "outputs": [],
   "source": [
    "g = sns.FacetGrid(train_data, col='Survived')\n",
    "g.map(plt.hist, 'Age', bins=20)\n",
    "\n",
    "g = sns.FacetGrid(train_data, col='Survived')\n",
    "g.map(plt.hist, 'Sex', bins=2)"
   ]
  },
  {
   "cell_type": "code",
   "execution_count": null,
   "metadata": {
    "id": "ksIjqVvBRPrX"
   },
   "outputs": [],
   "source": [
    "train_data.Pclass.value_counts().plot(kind=\"barh\")\n",
    "plt.title(\"Class Distribution\")"
   ]
  },
  {
   "cell_type": "code",
   "execution_count": null,
   "metadata": {
    "id": "I8enCQ9XSMse"
   },
   "outputs": [],
   "source": [
    "pclass_survived = train_data[train_data['Survived']==1]['Pclass'].value_counts()\n",
    "pclass_dead = train_data[train_data['Survived']==0]['Pclass'].value_counts()\n",
    "df = pd.DataFrame([pclass_survived,pclass_dead])\n",
    "df.index = ['Survived','Dead']\n",
    "df.plot(kind='bar', stacked=True, figsize=(10,8))"
   ]
  },
  {
   "cell_type": "code",
   "execution_count": null,
   "metadata": {
    "id": "JxsVYLS8SOOg"
   },
   "outputs": [],
   "source": [
    "train_data.Embarked.value_counts().plot(kind='bar')\n",
    "plt.title(\"Passengers per boarding location\")"
   ]
  },
  {
   "cell_type": "code",
   "execution_count": null,
   "metadata": {
    "id": "a2EZnWxrSPtk"
   },
   "outputs": [],
   "source": [
    "survived = train_data[train_data['Survived']==1]['Embarked'].value_counts()\n",
    "dead = train_data[train_data['Survived']==0]['Embarked'].value_counts()\n",
    "df = pd.DataFrame([survived,dead])\n",
    "df.index = ['Survived','Dead']\n",
    "df.plot(kind='bar', stacked=False, figsize=(8,6))\n",
    "plt.title(\"Survival and Death in Different ports\")"
   ]
  },
  {
   "cell_type": "code",
   "execution_count": null,
   "metadata": {
    "id": "x98e16Q0SRH-"
   },
   "outputs": [],
   "source": [
    "survived_0 = train_data[train_data['Survived'] == 0][\"Fare\"].mean()\n",
    "survived_1 = train_data[train_data['Survived'] == 1][\"Fare\"].mean()\n",
    "xs  = [survived_0, survived_1]\n",
    "ys = ['Dead','Survived']\n",
    "plt.bar(ys, xs, 0.6, align='center',color = 'green')\n",
    "plt.xlabel('Outcome')\n",
    "plt.ylabel('Mean Fare')\n",
    "plt.show()"
   ]
  },
  {
   "cell_type": "markdown",
   "metadata": {
    "id": "Q3rD49UIq8Vd"
   },
   "source": [
    "# Data Wrangling: Convert categorical variables to integers"
   ]
  },
  {
   "cell_type": "code",
   "execution_count": null,
   "metadata": {
    "id": "zYTc90xMSS-7"
   },
   "outputs": [],
   "source": [
    "def wrangle(dataset):\n",
    "    # sex {male, female} to {0, 1}\n",
    "    dataset['Sex'] = dataset['Sex'].map( {'female': 1, 'male': 0} ).astype(int)\n",
    "    \n",
    "    # embarked {S, C, Q} => 3 binary variables\n",
    "    embarked_separate_port = pd.get_dummies(dataset['Embarked'], prefix='Embarked')\n",
    "    dataset = pd.concat([dataset, embarked_separate_port], axis=1)\n",
    "    return dataset.drop('Embarked', axis=1)\n",
    " \n",
    "train_data = wrangle(train_data)\n",
    "test_data = wrangle(test_data)\n",
    "train_data.head()"
   ]
  },
  {
   "cell_type": "markdown",
   "metadata": {
    "id": "ozPwF7BWrDp-"
   },
   "source": [
    "# Data Exploration: Correlation Analysis"
   ]
  },
  {
   "cell_type": "code",
   "execution_count": null,
   "metadata": {
    "id": "tHxVzOZ9SVFy"
   },
   "outputs": [],
   "source": [
    "corr = train_data.corr()\n",
    "print(corr)"
   ]
  },
  {
   "cell_type": "code",
   "execution_count": null,
   "metadata": {
    "id": "In-UXM7oSXBh"
   },
   "outputs": [],
   "source": [
    "sns.heatmap(np.abs(corr),\n",
    "        xticklabels=corr.columns,\n",
    "        yticklabels=corr.columns)"
   ]
  },
  {
   "cell_type": "markdown",
   "metadata": {
    "id": "JkGemLhTrOoc"
   },
   "source": [
    "# Data Wrangling"
   ]
  },
  {
   "cell_type": "markdown",
   "metadata": {
    "id": "oWEo8mWerTiJ"
   },
   "source": [
    "## Filling missing values"
   ]
  },
  {
   "cell_type": "code",
   "execution_count": null,
   "metadata": {
    "id": "99P4Goy-SZa-"
   },
   "outputs": [],
   "source": [
    "guess_ages = np.zeros((2,3))\n",
    "for i in range(0, 2):\n",
    "    for j in range(0, 3):\n",
    "        guess_data = train_data[(train_data['Sex'] == i) & (train_data['Pclass'] == j+1)]['Age'].dropna()\n",
    "        age_guess = guess_data.median()\n",
    "        # Convert random age float to nearest .5 age\n",
    "        guess_ages[i,j] = int( age_guess/0.5 + 0.5 ) * 0.5\n",
    " \n",
    "def wrangle_age(dataset):\n",
    "    for i in range(0, 2):\n",
    "        for j in range(0, 3):\n",
    "            dataset.loc[ (dataset.Age.isnull()) & (dataset.Sex == i) & (dataset.Pclass == j+1),'Age'] = guess_ages[i,j]\n",
    "    dataset['Age'] = dataset['Age'].astype(int)\n",
    "    return dataset\n",
    " \n",
    "train_data = wrangle_age(train_data)\n",
    "test_data = wrangle_age(test_data)"
   ]
  },
  {
   "cell_type": "markdown",
   "metadata": {
    "id": "tuJNrXxkrXbD"
   },
   "source": [
    "## Creating New Features"
   ]
  },
  {
   "cell_type": "code",
   "execution_count": null,
   "metadata": {
    "id": "JVHvhUM_SgAu"
   },
   "outputs": [],
   "source": [
    "train_data['FamilySize'] = train_data['SibSp'] + train_data['Parch'] + 1\n",
    "test_data['FamilySize'] = test_data['SibSp'] + test_data['Parch'] + 1"
   ]
  },
  {
   "cell_type": "markdown",
   "metadata": {
    "id": "1wjIkp4drbJ5"
   },
   "source": [
    "## Final check before Machine Learning"
   ]
  },
  {
   "cell_type": "code",
   "execution_count": null,
   "metadata": {
    "id": "HdJuB2dPSh3h"
   },
   "outputs": [],
   "source": [
    "print(train_data.info())"
   ]
  },
  {
   "cell_type": "code",
   "execution_count": null,
   "metadata": {
    "id": "2Yc6wagzSjwm"
   },
   "outputs": [],
   "source": [
    "print(test_data.info())"
   ]
  },
  {
   "cell_type": "code",
   "execution_count": null,
   "metadata": {
    "id": "WhwB8Rx7Smjv"
   },
   "outputs": [],
   "source": [
    "mean_fare = 32\n",
    "test_data['Fare'] = test_data['Fare'].fillna(32)"
   ]
  },
  {
   "cell_type": "markdown",
   "metadata": {
    "id": "_sLaNSD3ri9d"
   },
   "source": [
    "# Machine Learning Models: Training and Evaluation"
   ]
  },
  {
   "cell_type": "code",
   "execution_count": null,
   "metadata": {
    "id": "JtLzwgQKSo3i"
   },
   "outputs": [],
   "source": [
    "from sklearn.linear_model import LogisticRegression\n",
    "from sklearn.svm import SVC\n",
    "from sklearn.ensemble import RandomForestClassifier\n",
    "from sklearn.neighbors import KNeighborsClassifier"
   ]
  },
  {
   "cell_type": "code",
   "execution_count": null,
   "metadata": {
    "id": "IVXM_5pjS8Qs"
   },
   "outputs": [],
   "source": [
    "X_train = train_data.drop(\"Survived\", axis=1)[:800]\n",
    "Y_train = train_data[\"Survived\"][:800]\n",
    "X_crossValidation = train_data.drop(\"Survived\", axis=1)[800:]\n",
    "Y_crossValidation = train_data[\"Survived\"][800:]\n",
    "X_test = test_data"
   ]
  },
  {
   "cell_type": "markdown",
   "metadata": {
    "id": "KOIRBjLKrmiw"
   },
   "source": [
    "## Logistic Regression"
   ]
  },
  {
   "cell_type": "code",
   "execution_count": null,
   "metadata": {
    "id": "XeXSG8aMS-Cu"
   },
   "outputs": [],
   "source": [
    "model_logistic = LogisticRegression()\n",
    "model_logistic.fit(X_train, Y_train)\n",
    "train_accuracy = round(model_logistic.score(X_train, Y_train) * 100, 2)\n",
    "validation_accuracy = round(model_logistic.score(X_crossValidation, Y_crossValidation) * 100, 2)\n",
    "Y_predL = model_logistic.predict(X_test)\n",
    "print(train_accuracy)\n",
    "print(validation_accuracy)"
   ]
  },
  {
   "cell_type": "markdown",
   "metadata": {
    "id": "e2CDiai5rpUZ"
   },
   "source": [
    "## Support Vector Machines"
   ]
  },
  {
   "cell_type": "code",
   "execution_count": null,
   "metadata": {
    "id": "KxXOZUmLS_WB"
   },
   "outputs": [],
   "source": [
    "svc = SVC()\n",
    "svc.fit(X_train, Y_train)\n",
    "train_accuracy = round(svc.score(X_train, Y_train) * 100, 2)\n",
    "validation_accuracy = round(svc.score(X_crossValidation, Y_crossValidation) * 100, 2)\n",
    "Y_predS = svc.predict(X_test)\n",
    "print(train_accuracy)\n",
    "print(validation_accuracy)"
   ]
  },
  {
   "cell_type": "markdown",
   "metadata": {
    "id": "dqjIe2-1rscz"
   },
   "source": [
    "## K Nearest Neighbors"
   ]
  },
  {
   "cell_type": "code",
   "execution_count": null,
   "metadata": {
    "id": "jjC1SlFrTsbD"
   },
   "outputs": [],
   "source": [
    "knn = KNeighborsClassifier(n_neighbors = 3)\n",
    "knn.fit(X_train, Y_train)\n",
    "train_accuracy = round(knn.score(X_train, Y_train) * 100, 2)\n",
    "validation_accuracy = round(knn.score(X_crossValidation, Y_crossValidation) * 100, 2)\n",
    "Y_predK = knn.predict(X_test)\n",
    "print(train_accuracy)\n",
    "print(validation_accuracy)"
   ]
  },
  {
   "cell_type": "markdown",
   "metadata": {
    "id": "5cmfk4f8rvf-"
   },
   "source": [
    "## Random Forest"
   ]
  },
  {
   "cell_type": "code",
   "execution_count": null,
   "metadata": {
    "id": "NSN3XDajTvf5"
   },
   "outputs": [],
   "source": [
    "random_forest = RandomForestClassifier(n_estimators=100)\n",
    "random_forest.fit(X_train, Y_train)\n",
    "train_accuracy = round(random_forest.score(X_train, Y_train) * 100, 2)\n",
    "validation_accuracy = round(random_forest.score(X_crossValidation, Y_crossValidation) * 100, 2)\n",
    "Y_predR = random_forest.predict(X_test)\n",
    "print(train_accuracy)\n",
    "print(validation_accuracy)"
   ]
  },
  {
   "cell_type": "markdown",
   "metadata": {
    "id": "nmUpr6hHrz-_"
   },
   "source": [
    "# Getting ready for submission"
   ]
  },
  {
   "cell_type": "code",
   "execution_count": null,
   "metadata": {
    "id": "5yZ-ZRS7URR-"
   },
   "outputs": [],
   "source": [
    "submission = pd.DataFrame({\n",
    "        \"PassengerId\": test_data[\"PassengerId\"],\n",
    "        \"Survived\": Y_predR\n",
    "    })\n",
    "submission.to_csv('submission.csv', index=False)"
   ]
  }
 ],
 "metadata": {
  "colab": {
   "name": "(Template) Predicting Titanic Survivors with Machine Learning  — CommonLounge.ipynb",
   "provenance": []
  },
  "kernelspec": {
   "display_name": "Python 3",
   "language": "python",
   "name": "python3"
  },
  "language_info": {
   "codemirror_mode": {
    "name": "ipython",
    "version": 3
   },
   "file_extension": ".py",
   "mimetype": "text/x-python",
   "name": "python",
   "nbconvert_exporter": "python",
   "pygments_lexer": "ipython3",
   "version": "3.6.5"
  }
 },
 "nbformat": 4,
 "nbformat_minor": 1
}
