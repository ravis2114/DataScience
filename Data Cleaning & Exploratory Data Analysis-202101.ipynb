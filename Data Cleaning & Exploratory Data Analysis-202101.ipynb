{
 "cells": [
  {
   "cell_type": "markdown",
   "metadata": {},
   "source": [
    "# 0.1 Dataset"
   ]
  },
  {
   "cell_type": "markdown",
   "metadata": {},
   "source": [
    "we will use a dataset which has information about students admitted to an engineering college in India. Information about each student includes the performance in school exams, family income, rank in screening examination, etc. "
   ]
  },
  {
   "cell_type": "code",
   "execution_count": 1,
   "metadata": {},
   "outputs": [],
   "source": [
    "import numpy as np\n",
    "import pandas as pd\n",
    "import matplotlib.pyplot as plt\n",
    "import seaborn as sns\n",
    "\n",
    "#pd.set_option('display.width', 200)\n",
    "#pd.set_option('display.max_columns', 20)\n",
    "\n",
    "# load the dataset\n",
    "df = pd.read_csv('data/student_v1.csv')"
   ]
  },
  {
   "cell_type": "code",
   "execution_count": 2,
   "metadata": {},
   "outputs": [
    {
     "name": "stdout",
     "output_type": "stream",
     "text": [
      "Shape of dataset: (535, 13)\n"
     ]
    }
   ],
   "source": [
    "print('Shape of dataset:', df.shape)"
   ]
  },
  {
   "cell_type": "code",
   "execution_count": 3,
   "metadata": {},
   "outputs": [
    {
     "data": {
      "text/html": [
       "<div>\n",
       "<style scoped>\n",
       "    .dataframe tbody tr th:only-of-type {\n",
       "        vertical-align: middle;\n",
       "    }\n",
       "\n",
       "    .dataframe tbody tr th {\n",
       "        vertical-align: top;\n",
       "    }\n",
       "\n",
       "    .dataframe thead th {\n",
       "        text-align: right;\n",
       "    }\n",
       "</style>\n",
       "<table border=\"1\" class=\"dataframe\">\n",
       "  <thead>\n",
       "    <tr style=\"text-align: right;\">\n",
       "      <th></th>\n",
       "      <th>Admn Yr</th>\n",
       "      <th>Seat Type</th>\n",
       "      <th>Entrance Rank</th>\n",
       "      <th>Reference</th>\n",
       "      <th>Sex</th>\n",
       "      <th>Proposed Residence</th>\n",
       "      <th>Board</th>\n",
       "      <th>Matriculation</th>\n",
       "      <th>Family Income</th>\n",
       "      <th>Physics</th>\n",
       "      <th>Chemistry</th>\n",
       "      <th>Maths</th>\n",
       "      <th>No of Subjects Failed</th>\n",
       "    </tr>\n",
       "  </thead>\n",
       "  <tbody>\n",
       "    <tr>\n",
       "      <th>0</th>\n",
       "      <td>2010</td>\n",
       "      <td>NRI</td>\n",
       "      <td>22799.0</td>\n",
       "      <td>N</td>\n",
       "      <td>Male</td>\n",
       "      <td>Hostler</td>\n",
       "      <td>CBSE</td>\n",
       "      <td>444.0</td>\n",
       "      <td>5000000.0</td>\n",
       "      <td>88.0</td>\n",
       "      <td>88.0</td>\n",
       "      <td>81.0</td>\n",
       "      <td>4</td>\n",
       "    </tr>\n",
       "    <tr>\n",
       "      <th>1</th>\n",
       "      <td>2010</td>\n",
       "      <td>MANAGEMENT SEAT</td>\n",
       "      <td>31582.0</td>\n",
       "      <td>N</td>\n",
       "      <td>Male</td>\n",
       "      <td>Day Scholar</td>\n",
       "      <td>CBSE</td>\n",
       "      <td>396.0</td>\n",
       "      <td>1000000.0</td>\n",
       "      <td>72.0</td>\n",
       "      <td>79.0</td>\n",
       "      <td>69.0</td>\n",
       "      <td>3</td>\n",
       "    </tr>\n",
       "    <tr>\n",
       "      <th>2</th>\n",
       "      <td>2010</td>\n",
       "      <td>GENERAL</td>\n",
       "      <td>5158.0</td>\n",
       "      <td>N</td>\n",
       "      <td>Male</td>\n",
       "      <td>Day Scholar</td>\n",
       "      <td>HSC</td>\n",
       "      <td>1175.0</td>\n",
       "      <td>350000.0</td>\n",
       "      <td>193.0</td>\n",
       "      <td>196.0</td>\n",
       "      <td>192.0</td>\n",
       "      <td>1</td>\n",
       "    </tr>\n",
       "    <tr>\n",
       "      <th>3</th>\n",
       "      <td>2010</td>\n",
       "      <td>GENERAL</td>\n",
       "      <td>5883.0</td>\n",
       "      <td>N</td>\n",
       "      <td>Male</td>\n",
       "      <td>Hostler</td>\n",
       "      <td>HSC</td>\n",
       "      <td>1135.0</td>\n",
       "      <td>600000.0</td>\n",
       "      <td>185.0</td>\n",
       "      <td>184.0</td>\n",
       "      <td>198.0</td>\n",
       "      <td>0</td>\n",
       "    </tr>\n",
       "    <tr>\n",
       "      <th>4</th>\n",
       "      <td>2010</td>\n",
       "      <td>FEE WAIVER</td>\n",
       "      <td>6293.0</td>\n",
       "      <td>N</td>\n",
       "      <td>Male</td>\n",
       "      <td>Hostler</td>\n",
       "      <td>ISC</td>\n",
       "      <td>404.0</td>\n",
       "      <td>120000.0</td>\n",
       "      <td>80.0</td>\n",
       "      <td>74.0</td>\n",
       "      <td>90.0</td>\n",
       "      <td>3</td>\n",
       "    </tr>\n",
       "  </tbody>\n",
       "</table>\n",
       "</div>"
      ],
      "text/plain": [
       "   Admn Yr        Seat Type  Entrance Rank Reference   Sex Proposed Residence  \\\n",
       "0     2010              NRI        22799.0         N  Male            Hostler   \n",
       "1     2010  MANAGEMENT SEAT        31582.0         N  Male        Day Scholar   \n",
       "2     2010          GENERAL         5158.0         N  Male        Day Scholar   \n",
       "3     2010          GENERAL         5883.0         N  Male            Hostler   \n",
       "4     2010       FEE WAIVER         6293.0         N  Male            Hostler   \n",
       "\n",
       "  Board  Matriculation  Family Income  Physics  Chemistry  Maths  \\\n",
       "0  CBSE          444.0      5000000.0     88.0       88.0   81.0   \n",
       "1  CBSE          396.0      1000000.0     72.0       79.0   69.0   \n",
       "2   HSC         1175.0       350000.0    193.0      196.0  192.0   \n",
       "3   HSC         1135.0       600000.0    185.0      184.0  198.0   \n",
       "4   ISC          404.0       120000.0     80.0       74.0   90.0   \n",
       "\n",
       "   No of Subjects Failed  \n",
       "0                      4  \n",
       "1                      3  \n",
       "2                      1  \n",
       "3                      0  \n",
       "4                      3  "
      ]
     },
     "execution_count": 3,
     "metadata": {},
     "output_type": "execute_result"
    }
   ],
   "source": [
    "df.head()"
   ]
  },
  {
   "cell_type": "markdown",
   "metadata": {},
   "source": [
    "Below, we've included a description of each of the columns in the dataset:\n",
    "\n",
    "    Admn Yr - The year of admission in the college\n",
    "    Seat Type - Students are admitted to nine different type of seats broadly classified on the basis of merit and fee structure\n",
    "    Entrance Rank - Rank secured in a common examination to measure academic merit of the student\n",
    "    Reference - Whether the student was recommended by the management of the college\n",
    "    Board - Board under which the student studied in school. Three different types exists in the data set.\n",
    "    Physics - Marks secured in Physics\n",
    "    Chemistry - Marks secured in Chemistry\n",
    "    Maths - Marks secured in Maths\n",
    "    Matriculation - Total marks secured in the final school exam.\n",
    "    Sex - Male / Female\n",
    "    Family Income - Annual Income of the family in Indian Rupee (INR)\n",
    "    Proposed Residence - Whether the student resides on-campus or off-campus. Day scholar / Hostler\n",
    "    No of Subjects Failed - The number of subjects the student failed in the college. This is the target variable."
   ]
  },
  {
   "cell_type": "markdown",
   "metadata": {},
   "source": [
    "#### types of variables"
   ]
  },
  {
   "cell_type": "markdown",
   "metadata": {},
   "source": [
    "The numeric variables are:\n",
    "\n",
    "    Entrance Rank\n",
    "    Matriculation\n",
    "    Family Income\n",
    "    Physics\n",
    "    Chemistry\n",
    "    Maths"
   ]
  },
  {
   "cell_type": "markdown",
   "metadata": {},
   "source": [
    "The categorical variables are:\n",
    "\n",
    "    Admn Yr\n",
    "    Seat Type\n",
    "    Reference\n",
    "    Sex\n",
    "    Proposed Residence\n",
    "    Board"
   ]
  },
  {
   "cell_type": "markdown",
   "metadata": {},
   "source": [
    "Note: Some variables such as year can be treated as a numerical or categorical variable depending on the dataset or domain. In our case, we know that the dataset focuses on examinations, etc which is different from year to year. For example, students with admission year 2010 would all give the same exam, and students with admission year 2011 would all give a different exam. Hence, we treat Admn Yr as a categorical variable."
   ]
  },
  {
   "cell_type": "code",
   "execution_count": 4,
   "metadata": {},
   "outputs": [
    {
     "name": "stdout",
     "output_type": "stream",
     "text": [
      "<class 'pandas.core.frame.DataFrame'>\n",
      "RangeIndex: 535 entries, 0 to 534\n",
      "Data columns (total 13 columns):\n",
      " #   Column                 Non-Null Count  Dtype  \n",
      "---  ------                 --------------  -----  \n",
      " 0   Admn Yr                535 non-null    int64  \n",
      " 1   Seat Type              535 non-null    object \n",
      " 2   Entrance Rank          530 non-null    float64\n",
      " 3   Reference              535 non-null    object \n",
      " 4   Sex                    535 non-null    object \n",
      " 5   Proposed Residence     519 non-null    object \n",
      " 6   Board                  535 non-null    object \n",
      " 7   Matriculation          532 non-null    float64\n",
      " 8   Family Income          518 non-null    float64\n",
      " 9   Physics                532 non-null    float64\n",
      " 10  Chemistry              530 non-null    float64\n",
      " 11  Maths                  531 non-null    float64\n",
      " 12  No of Subjects Failed  535 non-null    int64  \n",
      "dtypes: float64(6), int64(2), object(5)\n",
      "memory usage: 54.5+ KB\n"
     ]
    }
   ],
   "source": [
    "df.info()"
   ]
  },
  {
   "cell_type": "markdown",
   "metadata": {},
   "source": [
    "The categorical variables are currently of datatype object. Let's set it them to be of category datatype instead. (We can also see that many variables have missing values (null values), but we'll get back to that in a bit.)"
   ]
  },
  {
   "cell_type": "code",
   "execution_count": 5,
   "metadata": {},
   "outputs": [
    {
     "name": "stdout",
     "output_type": "stream",
     "text": [
      "<class 'pandas.core.frame.DataFrame'>\n",
      "RangeIndex: 535 entries, 0 to 534\n",
      "Data columns (total 13 columns):\n",
      " #   Column                 Non-Null Count  Dtype   \n",
      "---  ------                 --------------  -----   \n",
      " 0   Admn Yr                535 non-null    category\n",
      " 1   Seat Type              535 non-null    category\n",
      " 2   Entrance Rank          530 non-null    float64 \n",
      " 3   Reference              535 non-null    category\n",
      " 4   Sex                    535 non-null    category\n",
      " 5   Proposed Residence     519 non-null    category\n",
      " 6   Board                  535 non-null    category\n",
      " 7   Matriculation          532 non-null    float64 \n",
      " 8   Family Income          518 non-null    float64 \n",
      " 9   Physics                532 non-null    float64 \n",
      " 10  Chemistry              530 non-null    float64 \n",
      " 11  Maths                  531 non-null    float64 \n",
      " 12  No of Subjects Failed  535 non-null    int64   \n",
      "dtypes: category(6), float64(6), int64(1)\n",
      "memory usage: 33.5 KB\n"
     ]
    }
   ],
   "source": [
    "categorical_labels = ['Admn Yr', 'Seat Type', 'Reference', 'Sex', 'Proposed Residence', 'Board']\n",
    "df.loc[:, categorical_labels] = df.loc[:, categorical_labels].astype('category')\n",
    "# Check that everything looks good\n",
    "df.info()"
   ]
  },
  {
   "cell_type": "markdown",
   "metadata": {},
   "source": [
    "#### Duplicate Observations"
   ]
  },
  {
   "cell_type": "code",
   "execution_count": 6,
   "metadata": {},
   "outputs": [
    {
     "name": "stdout",
     "output_type": "stream",
     "text": [
      "No of duplicates present: 54\n",
      "Shape: (481, 13)\n"
     ]
    }
   ],
   "source": [
    "print('No of duplicates present:', df.duplicated().sum())\n",
    "df = df.drop_duplicates()\n",
    "# reset index.\n",
    "df = df.reset_index(drop=True)\n",
    "print('Shape:', df.shape)"
   ]
  },
  {
   "cell_type": "markdown",
   "metadata": {},
   "source": [
    "54 duplicates were present in the dataset. After dropping them, we are now left with 481 observations."
   ]
  },
  {
   "cell_type": "markdown",
   "metadata": {},
   "source": [
    "#### Distribution of Variables"
   ]
  },
  {
   "cell_type": "markdown",
   "metadata": {},
   "source": [
    "When analyzing the distribution of variables, we analyze numerical and categorical variables separately. This is because measures like mean, standard deviation, etc do not mean anything for categorical variables."
   ]
  },
  {
   "cell_type": "markdown",
   "metadata": {},
   "source": [
    "#### Categorical Variables"
   ]
  },
  {
   "cell_type": "code",
   "execution_count": 8,
   "metadata": {},
   "outputs": [
    {
     "name": "stdout",
     "output_type": "stream",
     "text": [
      "        Admn Yr        Seat Type Reference   Sex Proposed Residence Board\n",
      "count       481              481       481   481                465   481\n",
      "unique        4                9         2     2                  2     3\n",
      "top        2012  MANAGEMENT SEAT         N  Male        Day Scholar   HSC\n",
      "freq        125              185       470   477                268   255\n"
     ]
    }
   ],
   "source": [
    "print(df.describe(include='category'))"
   ]
  },
  {
   "cell_type": "markdown",
   "metadata": {},
   "source": [
    "Since the number of unique values for each variable is quite small (less than 10), the easiest way to look at the data is to plot barplots. "
   ]
  },
  {
   "cell_type": "code",
   "execution_count": 16,
   "metadata": {},
   "outputs": [
    {
     "name": "stderr",
     "output_type": "stream",
     "text": [
      "c:\\program files\\python36\\lib\\site-packages\\seaborn\\_decorators.py:43: FutureWarning: Pass the following variable as a keyword arg: x. From version 0.12, the only valid positional argument will be `data`, and passing other arguments without an explicit keyword will result in an error or misinterpretation.\n",
      "  FutureWarning\n"
     ]
    },
    {
     "data": {
      "image/png": "[encoded data removed]",
      "text/plain": [
       "<Figure size 432x288 with 2 Axes>"
      ]
     },
     "metadata": {
      "needs_background": "light"
     },
     "output_type": "display_data"
    }
   ],
   "source": [
    "# bar graph of Admn Yr and Board\n",
    "plt.subplots_adjust(wspace=0.5)\n",
    "plt.subplot(1, 2, 1)\n",
    "sns.countplot(df['Admn Yr'])\n",
    "plt.subplot(1, 2, 2)\n",
    "sns.countplot(df['Board'])\n",
    "plt.show()"
   ]
  },
  {
   "cell_type": "code",
   "execution_count": 17,
   "metadata": {},
   "outputs": [
    {
     "data": {
      "image/png": "[encoded data removed]",
      "text/plain": [
       "<Figure size 432x288 with 3 Axes>"
      ]
     },
     "metadata": {
      "needs_background": "light"
     },
     "output_type": "display_data"
    }
   ],
   "source": [
    "# bar graph of Reference, Sex and Proposed Residence\n",
    "plt.subplots_adjust(wspace=0.5)\n",
    "plt.subplot(1, 3, 1)\n",
    "sns.countplot(df['Reference'])\n",
    "plt.subplot(1, 3, 2)\n",
    "sns.countplot(df['Sex'])\n",
    "plt.subplot(1, 3, 3)\n",
    "sns.countplot(df['Proposed Residence'])\n",
    "# rotate x-axis labels because they don't fit otherwise\n",
    "plt.xticks(rotation=10, wrap=True)\n",
    "plt.show()"
   ]
  },
  {
   "cell_type": "code",
   "execution_count": 18,
   "metadata": {},
   "outputs": [
    {
     "data": {
      "image/png": "[encoded data removed]",
      "text/plain": [
       "<Figure size 432x288 with 1 Axes>"
      ]
     },
     "metadata": {
      "needs_background": "light"
     },
     "output_type": "display_data"
    }
   ],
   "source": [
    "# bar graph of Seat Type\n",
    "plt.figure()\n",
    "sns.countplot(df['Seat Type'])\n",
    "# rotate x-axis labels because they don't fit otherwise\n",
    "plt.xticks(rotation=20, wrap=True)\n",
    "plt.show()"
   ]
  },
  {
   "cell_type": "markdown",
   "metadata": {},
   "source": [
    "From the above plots, we can make the following observations:\n",
    "\n",
    "    The number of students is almost equal for each Admn Yr, as one might expect.\n",
    "    More than 95% of the students come from HSC or CBSE schools.\n",
    "    For the variables Reference and Sex, all but a few observations belong to only one class. That is, very few students provided a reference, and the college has a very skewed gender ratio."
   ]
  },
  {
   "cell_type": "markdown",
   "metadata": {},
   "source": [
    "#### Numerical Variables"
   ]
  },
  {
   "cell_type": "code",
   "execution_count": 19,
   "metadata": {},
   "outputs": [
    {
     "name": "stdout",
     "output_type": "stream",
     "text": [
      "       Entrance Rank  Matriculation  Family Income     Physics   Chemistry  \\\n",
      "count     476.000000     478.000000   4.650000e+02  478.000000  476.000000   \n",
      "mean    24138.768908     736.643054   4.521136e+05  128.983264  129.441176   \n",
      "std     15786.489338     343.066274   5.008878e+05   48.140645   50.403495   \n",
      "min      2750.000000      64.600000   1.200000e+04   49.000000   45.000000   \n",
      "25%     11466.000000     418.000000   1.200000e+05   83.000000   82.000000   \n",
      "50%     19631.000000     782.000000   3.000000e+05  126.500000  135.000000   \n",
      "75%     31937.500000    1085.000000   6.000000e+05  179.000000  181.000000   \n",
      "max     75012.000000    1194.000000   5.000000e+06  200.000000  200.000000   \n",
      "\n",
      "            Maths  No of Subjects Failed  \n",
      "count  477.000000             481.000000  \n",
      "mean   125.582809               1.910603  \n",
      "std     52.358131               1.555338  \n",
      "min     33.000000               0.000000  \n",
      "25%     80.000000               0.000000  \n",
      "50%    116.000000               2.000000  \n",
      "75%    180.000000               3.000000  \n",
      "max    200.000000              10.000000  \n"
     ]
    }
   ],
   "source": [
    "print(df.describe())"
   ]
  },
  {
   "cell_type": "markdown",
   "metadata": {},
   "source": [
    "If we pay attention to the minimum and maximum values for all the variables, the only thing that seems to stand out is that the maximum values for Physics, Chemistry and Maths is 200 — as opposed to 100, which is what we might expect in general.\n",
    "\n",
    "The other values look fine — for example, the worst Entrance Rank is about 75000, which seems reasonable, and the maximum Family Income is 50,00,000 INR. But the table is quite difficult to look at, to let's just draw some histograms."
   ]
  },
  {
   "cell_type": "code",
   "execution_count": 20,
   "metadata": {},
   "outputs": [
    {
     "data": {
      "image/png": "[encoded data removed]",
      "text/plain": [
       "<Figure size 432x288 with 6 Axes>"
      ]
     },
     "metadata": {
      "needs_background": "light"
     },
     "output_type": "display_data"
    }
   ],
   "source": [
    "plt.subplots_adjust(hspace=1)\n",
    "\n",
    "plt.subplot(3, 2, 1)\n",
    "plt.hist(df['Entrance Rank'], ec='black', bins=20)\n",
    "plt.title(\"Entrance Rank\")\n",
    "\n",
    "plt.subplot(3, 2, 2)\n",
    "plt.hist(df['Matriculation'], ec='black', bins=20)\n",
    "plt.title('Matriculation')\n",
    "\n",
    "plt.subplot(3, 2, 3)\n",
    "plt.hist(df['Family Income'], ec='black', bins=20)\n",
    "plt.title('Family Income')\n",
    "\n",
    "plt.subplot(3, 2, 4)\n",
    "plt.hist(df['Physics'], ec='black', bins=20)\n",
    "plt.title('Physics')\n",
    "\n",
    "plt.subplot(3, 2, 5)\n",
    "plt.hist(df['Chemistry'], ec='black', bins=20)\n",
    "plt.title('Chemistry')\n",
    "\n",
    "plt.subplot(3, 2, 6)\n",
    "plt.hist(df['Maths'], ec='black', bins=20)\n",
    "plt.title('Maths')\n",
    "\n",
    "plt.show()"
   ]
  },
  {
   "cell_type": "markdown",
   "metadata": {},
   "source": [
    "A lot of those plots have multiple modes. Moreover, sometimes these modes are separated by a pretty significant gap. Anytime we see multiple modes, it's important to reason about why this might be happening.\n",
    "\n",
    "    We can see that Entrance Rank has trimodal distribution, while Matriculation, Physics, Chemistry and Maths has a bimodal distribution. In particular, for the subjects (Chemistry, Physics and Maths), the first mode seems to end at 100, and the next mode ends at 200. This is a strong hint that different students gave different exams, one of which had a maximum score of 100 per subject, and the other had a maximum score of 200 per subject. We should analyze this more and confirm if this is indeed the case.\n",
    "    Family Income is extremely right skewed, which is consistent with regular income distribution."
   ]
  },
  {
   "cell_type": "markdown",
   "metadata": {},
   "source": [
    "#### Bimodal Distributions (Matriculation, Physics, Chemistry, Maths)"
   ]
  },
  {
   "cell_type": "markdown",
   "metadata": {},
   "source": [
    "We noted a couple of other things earlier:\n",
    "\n",
    "    For the subjects (Chemistry, Physics and Maths), the first mode seems to end at 100, and the next mode ends at 200. Hence, it is quite probable that the students gave different exams, one of which had a maximum score of 100 per subject, and the other had a maximum score of 200 per subject.\n",
    "    We saw in the plots for categorical variable Board that 90% of the students come from HSC and CBSE schools. So, it is likely that in the bimodal distributions, one of the modes corresponds to CBSE and the other mode corresponds to HSC. That is, one of CBSE and HSC has maximum marks 100 per subject (Physics, Chemistry and Maths), and the other has maximum marks 200 per subject.\n",
    "    Similarly, the two boards probably have different maximum total marks for Matriculation. "
   ]
  },
  {
   "cell_type": "markdown",
   "metadata": {},
   "source": [
    "Let's see if we can confirm this idea."
   ]
  },
  {
   "cell_type": "markdown",
   "metadata": {},
   "source": [
    "Let's plot the boxplots for Matriculation, Physics, Chemistry and Maths grouped by Board."
   ]
  },
  {
   "cell_type": "code",
   "execution_count": 21,
   "metadata": {},
   "outputs": [
    {
     "data": {
      "image/png": "[encoded data removed]",
      "text/plain": [
       "<Figure size 432x288 with 4 Axes>"
      ]
     },
     "metadata": {
      "needs_background": "light"
     },
     "output_type": "display_data"
    }
   ],
   "source": [
    "plt.subplot(2, 2, 1)\n",
    "sns.boxplot(x='Board', y='Matriculation', data=df)\n",
    "plt.subplot(2, 2, 2)\n",
    "sns.boxplot(x='Board', y='Physics', data=df)\n",
    "plt.subplot(2, 2, 3)\n",
    "sns.boxplot(x='Board', y='Chemistry', data=df)\n",
    "plt.subplot(2, 2, 4)\n",
    "sns.boxplot(x='Board', y='Maths', data=df)\n",
    "plt.show()"
   ]
  },
  {
   "cell_type": "markdown",
   "metadata": {},
   "source": [
    "We can see that Matriculation, Physics, Chemistry and Maths from HSC and CBSE differ significantly.\n",
    "\n",
    "    We can clearly see that the maximum marks is 200 per subject for HSC and 100 per subject for CBSE.\n",
    "    ISC board has fewer data points, but we can still see that ISC's behavior is similar to CBSE's.\n",
    "    For Matriculation, the maximum mark is 1200 for HSC and 500 for CBSE and ISC."
   ]
  },
  {
   "cell_type": "markdown",
   "metadata": {},
   "source": [
    "Let's also plot histograms. We'll split the data by Board first. "
   ]
  },
  {
   "cell_type": "code",
   "execution_count": 22,
   "metadata": {},
   "outputs": [
    {
     "data": {
      "image/png": "[encoded data removed]",
      "text/plain": [
       "<Figure size 432x288 with 4 Axes>"
      ]
     },
     "metadata": {
      "needs_background": "light"
     },
     "output_type": "display_data"
    }
   ],
   "source": [
    "# extract data for each board into a separate data frame\n",
    "hsc_data  = df[df['Board'] == 'HSC']\n",
    "isc_data  = df[df['Board'] == 'ISC']\n",
    "cbse_data = df[df['Board'] == 'CBSE']\n",
    "labels = ['HSC', 'ISC', 'CBSE']\n",
    "\n",
    "plt.subplots_adjust(hspace=0.2)\n",
    "\n",
    "# histogram for Matriculation\n",
    "plt.subplot(2, 2, 1)\n",
    "data = [hsc_data['Matriculation'], isc_data['Matriculation'], cbse_data['Matriculation']]\n",
    "plt.hist(data, label=labels, alpha=0.6, ec='black', histtype='stepfilled', bins=50, range=(0,1200))\n",
    "plt.legend(loc='upper right')\n",
    "plt.title('Matriculation')\n",
    "\n",
    "# histogram for Physics\n",
    "plt.subplot(2, 2, 2)\n",
    "data = [hsc_data['Physics'], isc_data['Physics'], cbse_data['Physics']]\n",
    "plt.hist(data, label=labels, alpha=0.6, ec='black', histtype='stepfilled', bins=50, range=(0,200))\n",
    "plt.legend(loc='upper right')\n",
    "plt.title('Physics')\n",
    "\n",
    "# histogram for Chemistry\n",
    "plt.subplot(2, 2, 3)\n",
    "data = [hsc_data['Chemistry'], isc_data['Chemistry'], cbse_data['Chemistry']]\n",
    "plt.hist(data, label=labels, alpha=0.6, ec='black', histtype='stepfilled', bins=50, range=(0,200))\n",
    "plt.legend(loc='upper right')\n",
    "plt.title('Chemistry')\n",
    "\n",
    "# histogram for Maths\n",
    "plt.subplot(2, 2, 4)\n",
    "data = [hsc_data['Maths'], isc_data['Maths'], cbse_data['Maths']]\n",
    "plt.hist(data, label=labels, alpha=0.6, ec='black', histtype='stepfilled', bins=50, range=(0,200))\n",
    "plt.legend(loc='upper right')\n",
    "plt.title('Maths')\n",
    "\n",
    "plt.show()"
   ]
  },
  {
   "cell_type": "markdown",
   "metadata": {},
   "source": [
    "The histograms once again clearly confirms our idea."
   ]
  },
  {
   "cell_type": "markdown",
   "metadata": {},
   "source": [
    "#### Trimodal distribution (Entrance Rank)"
   ]
  },
  {
   "cell_type": "markdown",
   "metadata": {},
   "source": [
    "Now, let's see what can explain the trimodal distribution for Entrance Rank. In contrast to Matriculation, Physics, etc which were related to the students school examination results, the Entrance Rank is related to the admission of the student into the university. Out of our other variables, the other variables related to student's admission into the university are Seat Type and Admn Yr.\n",
    "\n",
    "So, our best guess would be, admission is easier / tougher into the college, based on how much fees the student is paying. Seat Type does have information about that, since there are GENERAL seats, FEE WAIVER seats, NRI (non-residential Indian) seats, etc.\n",
    "\n",
    "Let's do the same thing we did before — plot boxplots and histograms — but this time for Entrance Rank with Seat Type."
   ]
  },
  {
   "cell_type": "code",
   "execution_count": 23,
   "metadata": {},
   "outputs": [
    {
     "data": {
      "image/png": "[encoded data removed]",
      "text/plain": [
       "<Figure size 864x576 with 1 Axes>"
      ]
     },
     "metadata": {
      "needs_background": "light"
     },
     "output_type": "display_data"
    }
   ],
   "source": [
    "plt.figure(figsize=(12, 8))\n",
    "sns.boxplot(x='Seat Type', y='Entrance Rank', data=df)\n",
    "plt.xticks(rotation=10, wrap=True)\n",
    "plt.show()"
   ]
  },
  {
   "cell_type": "code",
   "execution_count": 24,
   "metadata": {},
   "outputs": [
    {
     "data": {
      "image/png": "[encoded data removed]",
      "text/plain": [
       "<Figure size 432x288 with 1 Axes>"
      ]
     },
     "metadata": {
      "needs_background": "light"
     },
     "output_type": "display_data"
    }
   ],
   "source": [
    "# list of possible values for seat type\n",
    "seat_types = df['Seat Type'].unique()\n",
    "\n",
    "# extract data for each seat type\n",
    "data = []\n",
    "for seat_type in seat_types:\n",
    "    data.append(df[df['Seat Type'] == seat_type]['Entrance Rank'])\n",
    "\n",
    "# histogram for entrance rank\n",
    "plt.hist(data, label=seat_types, histtype='barstacked', alpha=0.6, ec='black', bins=30)\n",
    "\n",
    "# add legend and title\n",
    "plt.legend(loc='upper right')\n",
    "plt.title('Entrance Rank')\n",
    "\n",
    "plt.show()"
   ]
  },
  {
   "cell_type": "markdown",
   "metadata": {},
   "source": [
    "It is evident from the boxplot and histogram that multiple distributions exist in Entrance Rank. From the above plots, we can make the following observations:\n",
    "\n",
    "    FEE WAIVER, FEE WAIVER (INCOME) and GENERAL together form one mode.\n",
    "    MANAGEMENT SEAT together forms the second mode. Although OBC, OEC and ReferenceES have very few data points, they seem to behave similar to MANAGEMENT SEAT.\n",
    "    NRI forms the third mode. Although SC has very few data points, it seems to behave similar to NRI."
   ]
  },
  {
   "cell_type": "markdown",
   "metadata": {},
   "source": [
    "#### Numerical Variable Transformations"
   ]
  },
  {
   "cell_type": "markdown",
   "metadata": {},
   "source": [
    "As part of data cleaning, we need to transform variables into a more usable form for data science and machine learning. "
   ]
  },
  {
   "cell_type": "markdown",
   "metadata": {},
   "source": [
    "##### Log transformation"
   ]
  },
  {
   "cell_type": "markdown",
   "metadata": {},
   "source": [
    "When doing data exploration for numerical variables, we saw that Entrance Rank and Family Income have very skewed distributions.\n",
    "\n",
    "Let's apply a log transformation to the these variables to reduce the skew."
   ]
  },
  {
   "cell_type": "code",
   "execution_count": 25,
   "metadata": {},
   "outputs": [
    {
     "name": "stdout",
     "output_type": "stream",
     "text": [
      "  Admn Yr        Seat Type  Entrance Rank Reference   Sex Proposed Residence  \\\n",
      "0    2010              NRI      10.034472         N  Male            Hostler   \n",
      "1    2010  MANAGEMENT SEAT      10.360343         N  Male        Day Scholar   \n",
      "2    2010          GENERAL       8.548304         N  Male        Day Scholar   \n",
      "3    2010          GENERAL       8.679822         N  Male            Hostler   \n",
      "4    2010       FEE WAIVER       8.747193         N  Male            Hostler   \n",
      "\n",
      "  Board  Matriculation  Family Income  Physics  Chemistry  Maths  \\\n",
      "0  CBSE          444.0      15.424948     88.0       88.0   81.0   \n",
      "1  CBSE          396.0      13.815511     72.0       79.0   69.0   \n",
      "2   HSC         1175.0      12.765688    193.0      196.0  192.0   \n",
      "3   HSC         1135.0      13.304685    185.0      184.0  198.0   \n",
      "4   ISC          404.0      11.695247     80.0       74.0   90.0   \n",
      "\n",
      "   No of Subjects Failed  \n",
      "0                      4  \n",
      "1                      3  \n",
      "2                      1  \n",
      "3                      0  \n",
      "4                      3  \n"
     ]
    }
   ],
   "source": [
    "df['Family Income'] = np.log(df['Family Income'])\n",
    "df['Entrance Rank'] = np.log(df['Entrance Rank'])\n",
    "print(df.head())"
   ]
  },
  {
   "cell_type": "code",
   "execution_count": 26,
   "metadata": {},
   "outputs": [
    {
     "data": {
      "text/plain": [
       "Text(0.5, 1.0, 'Family Income')"
      ]
     },
     "execution_count": 26,
     "metadata": {},
     "output_type": "execute_result"
    },
    {
     "data": {
      "image/png": "[encoded data removed]",
      "text/plain": [
       "<Figure size 432x288 with 2 Axes>"
      ]
     },
     "metadata": {
      "needs_background": "light"
     },
     "output_type": "display_data"
    }
   ],
   "source": [
    "plt.subplots_adjust(hspace=1)\n",
    "plt.subplot(1, 2, 1)\n",
    "plt.hist(df['Entrance Rank'], ec='black', bins=20)\n",
    "plt.title(\"Entrance Rank\")\n",
    "\n",
    "plt.subplot(1, 2, 2)\n",
    "plt.hist(df['Family Income'], ec='black', bins=20)\n",
    "plt.title('Family Income')"
   ]
  },
  {
   "cell_type": "markdown",
   "metadata": {},
   "source": [
    "##### Percentage Transformation"
   ]
  },
  {
   "cell_type": "markdown",
   "metadata": {},
   "source": [
    "We saw during our bimodal analysis that students from Board - CBSE and ISC have maximum mark of 500 for Matriculation while HSC board students have maximum marks of 1200.\n",
    "\n",
    "Similarly, for Physics, Chemistry and Maths, we noticed that the maximum marks is 100 for CBSE and ISC and 200 for HSC.\n",
    "\n",
    "Since the maximum marks differ by Board, we should rescale the values so that all the grades are percentage values (that is, scale it as if all examinations had a maximum possible score of 100)."
   ]
  },
  {
   "cell_type": "code",
   "execution_count": 27,
   "metadata": {},
   "outputs": [
    {
     "name": "stdout",
     "output_type": "stream",
     "text": [
      "  Admn Yr        Seat Type  Entrance Rank Reference   Sex Proposed Residence  \\\n",
      "0    2010              NRI      10.034472         N  Male            Hostler   \n",
      "1    2010  MANAGEMENT SEAT      10.360343         N  Male        Day Scholar   \n",
      "2    2010          GENERAL       8.548304         N  Male        Day Scholar   \n",
      "3    2010          GENERAL       8.679822         N  Male            Hostler   \n",
      "4    2010       FEE WAIVER       8.747193         N  Male            Hostler   \n",
      "\n",
      "  Board  Matriculation  Family Income  Physics  Chemistry  Maths  \\\n",
      "0  CBSE      88.800000      15.424948     88.0       88.0   81.0   \n",
      "1  CBSE      79.200000      13.815511     72.0       79.0   69.0   \n",
      "2   HSC      97.916667      12.765688     96.5       98.0   96.0   \n",
      "3   HSC      94.583333      13.304685     92.5       92.0   99.0   \n",
      "4   ISC      80.800000      11.695247     80.0       74.0   90.0   \n",
      "\n",
      "   No of Subjects Failed  \n",
      "0                      4  \n",
      "1                      3  \n",
      "2                      1  \n",
      "3                      0  \n",
      "4                      3  \n"
     ]
    }
   ],
   "source": [
    "# Convert Matriculation to percentage based on Board\n",
    "df['Matriculation'] = np.where(df['Board'] == 'HSC', df['Matriculation']/12, df['Matriculation'])\n",
    "df['Matriculation'] = np.where(df['Board'] == 'CBSE', df['Matriculation']/5, df['Matriculation'])\n",
    "df['Matriculation'] = np.where(df['Board'] == 'ISC',  df['Matriculation']/5, df['Matriculation'])\n",
    "\n",
    "# Convert Physics, Chemistry and Maths of HSC to percentage\n",
    "# Marks of other boards are already in percentage\n",
    "df['Physics']   = np.where(df['Board'] == 'HSC', df['Physics']/2, df['Physics'])\n",
    "df['Chemistry'] = np.where(df['Board'] == 'HSC', df['Chemistry']/2, df['Chemistry'])\n",
    "df['Maths']     = np.where(df['Board'] == 'HSC', df['Maths']/2, df['Maths'])\n",
    "print(df.head())"
   ]
  },
  {
   "cell_type": "code",
   "execution_count": 28,
   "metadata": {},
   "outputs": [
    {
     "data": {
      "image/png": "[encoded data removed]",
      "text/plain": [
       "<Figure size 432x288 with 6 Axes>"
      ]
     },
     "metadata": {
      "needs_background": "light"
     },
     "output_type": "display_data"
    }
   ],
   "source": [
    "plt.subplots_adjust(hspace=1)\n",
    "\n",
    "plt.subplot(3, 2, 1)\n",
    "plt.hist(df['Entrance Rank'], ec='black', bins=20)\n",
    "plt.title(\"Entrance Rank\")\n",
    "\n",
    "plt.subplot(3, 2, 2)\n",
    "plt.hist(df['Matriculation'], ec='black', bins=20)\n",
    "plt.title('Matriculation')\n",
    "\n",
    "plt.subplot(3, 2, 3)\n",
    "plt.hist(df['Family Income'], ec='black', bins=20)\n",
    "plt.title('Family Income')\n",
    "\n",
    "plt.subplot(3, 2, 4)\n",
    "plt.hist(df['Physics'], ec='black', bins=20)\n",
    "plt.title('Physics')\n",
    "\n",
    "plt.subplot(3, 2, 5)\n",
    "plt.hist(df['Chemistry'], ec='black', bins=20)\n",
    "plt.title('Chemistry')\n",
    "\n",
    "plt.subplot(3, 2, 6)\n",
    "plt.hist(df['Maths'], ec='black', bins=20)\n",
    "plt.title('Maths')\n",
    "\n",
    "plt.show()"
   ]
  },
  {
   "cell_type": "markdown",
   "metadata": {},
   "source": [
    "##### Data Re-scaling: Standardization"
   ]
  },
  {
   "cell_type": "markdown",
   "metadata": {},
   "source": [
    "Many machine learning algorithms require numerical data to be re-scaled before fitting the model (especially important for distance based algorithms). Re-scaling also ensures variables with high magnitude don't dominate the data analysis.\n",
    "\n",
    "For rescaling, we will perform standardization — that is, re-scale each variable so that its new mean becomes 0 (μ = 0) and standard deviation becomes 1 (σ = 1).\n",
    "\n",
    "We'll use sklearn library's preprocessing.scale() function to perform standardization:"
   ]
  },
  {
   "cell_type": "code",
   "execution_count": 29,
   "metadata": {},
   "outputs": [
    {
     "name": "stdout",
     "output_type": "stream",
     "text": [
      "  Admn Yr        Seat Type  Entrance Rank Reference   Sex Proposed Residence  \\\n",
      "0    2010              NRI       0.234693         N  Male            Hostler   \n",
      "1    2010  MANAGEMENT SEAT       0.721673         N  Male        Day Scholar   \n",
      "2    2010          GENERAL      -1.986232         N  Male        Day Scholar   \n",
      "3    2010          GENERAL      -1.789692         N  Male            Hostler   \n",
      "4    2010       FEE WAIVER      -1.689012         N  Male            Hostler   \n",
      "\n",
      "  Board  Matriculation  Family Income   Physics  Chemistry     Maths  \\\n",
      "0  CBSE       0.419847       2.709531  0.400809   0.378708  0.041068   \n",
      "1  CBSE      -0.258207       1.215121 -1.038679  -0.339480 -0.743820   \n",
      "2   HSC       1.063763       0.240330  1.165538   1.176695  1.022178   \n",
      "3   HSC       0.828328       0.740804  0.805666   0.697903  1.218400   \n",
      "4   ISC      -0.145198      -0.753607 -0.318935  -0.738473  0.629734   \n",
      "\n",
      "   No of Subjects Failed  \n",
      "0                      4  \n",
      "1                      3  \n",
      "2                      1  \n",
      "3                      0  \n",
      "4                      3  \n",
      "       Entrance Rank  Matriculation  Family Income       Physics  \\\n",
      "count   4.760000e+02   4.780000e+02   4.650000e+02  4.780000e+02   \n",
      "mean    2.343597e-15  -5.797315e-16  -1.734335e-15  1.189193e-16   \n",
      "std     1.001052e+00   1.001048e+00   1.001077e+00  1.001048e+00   \n",
      "min    -2.926129e+00  -5.395526e+00  -2.891625e+00 -4.592417e+00   \n",
      "25%    -7.924531e-01  -2.582069e-01  -7.536065e-01 -5.888389e-01   \n",
      "50%     1.111958e-02   2.644598e-01   9.719639e-02  1.758894e-01   \n",
      "75%     7.383896e-01   6.517511e-01   7.408040e-01  8.056657e-01   \n",
      "max     2.014417e+00   1.175595e+00   2.709531e+00  1.480426e+00   \n",
      "\n",
      "          Chemistry         Maths  No of Subjects Failed  \n",
      "count  4.760000e+02  4.770000e+02             481.000000  \n",
      "mean   1.492737e-16  1.936490e-16               1.910603  \n",
      "std    1.001052e+00  1.001050e+00               1.555338  \n",
      "min   -4.848105e+00 -3.196593e+00               0.000000  \n",
      "25%   -6.586744e-01 -4.821903e-01               0.000000  \n",
      "50%    2.191111e-01  3.026973e-01               2.000000  \n",
      "75%    8.575006e-01  7.605484e-01               3.000000  \n",
      "max    1.336293e+00  1.283807e+00              10.000000  \n"
     ]
    }
   ],
   "source": [
    "# numeric variable names stored as a list\n",
    "numerical_labels = ['Entrance Rank', 'Matriculation', 'Family Income', 'Physics', 'Chemistry', 'Maths']\n",
    "\n",
    "# standardize data using preprocessing.scale()\n",
    "from sklearn import preprocessing\n",
    "df.loc[:,numerical_labels] = preprocessing.scale(df.loc[:,numerical_labels])\n",
    "\n",
    "# check first five observations\n",
    "print(df.head())\n",
    "\n",
    "# check last mean is 0 and std 1\n",
    "print(df.describe())"
   ]
  },
  {
   "cell_type": "markdown",
   "metadata": {},
   "source": [
    "Since floating-point operations are only precise to a certain number of digits, the new means won't be exactly 0, but they'll be really small (about 10-15)."
   ]
  },
  {
   "cell_type": "markdown",
   "metadata": {},
   "source": [
    "We can also plot the histograms again, to see the effect of standardization."
   ]
  },
  {
   "cell_type": "code",
   "execution_count": 30,
   "metadata": {},
   "outputs": [
    {
     "data": {
      "image/png": "[encoded data removed]",
      "text/plain": [
       "<Figure size 432x288 with 6 Axes>"
      ]
     },
     "metadata": {
      "needs_background": "light"
     },
     "output_type": "display_data"
    }
   ],
   "source": [
    "plt.subplots_adjust(hspace=1)\n",
    "\n",
    "plt.subplot(3, 2, 1)\n",
    "plt.hist(df['Entrance Rank'], ec='black', bins=20)\n",
    "plt.title(\"Entrance Rank\")\n",
    "\n",
    "plt.subplot(3, 2, 2)\n",
    "plt.hist(df['Matriculation'], ec='black', bins=20)\n",
    "plt.title('Matriculation')\n",
    "\n",
    "plt.subplot(3, 2, 3)\n",
    "plt.hist(df['Family Income'], ec='black', bins=20)\n",
    "plt.title('Family Income')\n",
    "\n",
    "plt.subplot(3, 2, 4)\n",
    "plt.hist(df['Physics'], ec='black', bins=20)\n",
    "plt.title('Physics')\n",
    "\n",
    "plt.subplot(3, 2, 5)\n",
    "plt.hist(df['Chemistry'], ec='black', bins=20)\n",
    "plt.title('Chemistry')\n",
    "\n",
    "plt.subplot(3, 2, 6)\n",
    "plt.hist(df['Maths'], ec='black', bins=20)\n",
    "plt.title('Maths')\n",
    "\n",
    "plt.show()"
   ]
  },
  {
   "cell_type": "markdown",
   "metadata": {},
   "source": [
    "##### Missing Values"
   ]
  },
  {
   "cell_type": "markdown",
   "metadata": {},
   "source": [
    "Next, we'll check for missing values. We'll also need to decide how we would like to deal with missing values. Common methods for dealing with missing values are:\n",
    "\n",
    "    Deleting the observations with missing values.\n",
    "    Imputing the missing values by median/mode, kNN etc."
   ]
  },
  {
   "cell_type": "markdown",
   "metadata": {},
   "source": [
    "###### Checking for missing values"
   ]
  },
  {
   "cell_type": "code",
   "execution_count": 35,
   "metadata": {},
   "outputs": [
    {
     "name": "stdout",
     "output_type": "stream",
     "text": [
      "Data set shape:  (481, 13)\n",
      "Admn Yr                   0\n",
      "Seat Type                 0\n",
      "Entrance Rank             5\n",
      "Reference                 0\n",
      "Sex                       0\n",
      "Proposed Residence       16\n",
      "Board                     0\n",
      "Matriculation             3\n",
      "Family Income            16\n",
      "Physics                   3\n",
      "Chemistry                 5\n",
      "Maths                     4\n",
      "No of Subjects Failed     0\n",
      "dtype: int64\n"
     ]
    }
   ],
   "source": [
    "print('Data set shape: ', df.shape)\n",
    "# missing values\n",
    "print(df.isnull().sum())"
   ]
  },
  {
   "cell_type": "markdown",
   "metadata": {},
   "source": [
    "seven variables have missing values. The number of missing values are listed to the right of the corresponding variable in the above output. We have missing values for 6 numerical variables and 1 categorical variable."
   ]
  },
  {
   "cell_type": "markdown",
   "metadata": {},
   "source": [
    "##### Dealing with missing values"
   ]
  },
  {
   "cell_type": "markdown",
   "metadata": {},
   "source": [
    "The simplest approach is to delete the observations which have missing values. However, in doing so, we don't want to end up deleting a significant fraction of our data, since that would be harmful for any further analysis or machine learning.\n",
    "\n",
    "Let's see how much our dataset would reduce by if we deleted observations which have missing values:"
   ]
  },
  {
   "cell_type": "code",
   "execution_count": 36,
   "metadata": {},
   "outputs": [
    {
     "name": "stdout",
     "output_type": "stream",
     "text": [
      "Data set shape before dropping missing values: (481, 13)\n",
      "Data set shape after dropping missing values: (441, 13)\n"
     ]
    }
   ],
   "source": [
    "print('Data set shape before dropping missing values:', df.shape)\n",
    "print('Data set shape after dropping missing values:', df.dropna().shape)"
   ]
  },
  {
   "cell_type": "markdown",
   "metadata": {},
   "source": [
    "This would result in dropping 40 observations, which is about 8% of our datasize. That isn't too bad, but it isn't ideal either.\n",
    "\n",
    "Let's impute the missing values instead. "
   ]
  },
  {
   "cell_type": "markdown",
   "metadata": {},
   "source": [
    "##### Imputing missing values"
   ]
  },
  {
   "cell_type": "markdown",
   "metadata": {},
   "source": [
    "Imputation by Median / Mode"
   ]
  },
  {
   "cell_type": "markdown",
   "metadata": {},
   "source": [
    "We can impute the missing values of numerical variables by its median. For categorical variables, missing values are imputed by mode."
   ]
  },
  {
   "cell_type": "markdown",
   "metadata": {},
   "source": [
    "fill missing values with median for numerical values :    "
   ]
  },
  {
   "cell_type": "raw",
   "metadata": {},
   "source": [
    "df.fillna(df[numerical_labels].median())"
   ]
  },
  {
   "cell_type": "markdown",
   "metadata": {},
   "source": [
    "fill missing values with mode for categorical values :   "
   ]
  },
  {
   "cell_type": "raw",
   "metadata": {},
   "source": [
    "df.fillna(df[categorical_labels].mode().iloc[0])"
   ]
  },
  {
   "cell_type": "markdown",
   "metadata": {},
   "source": [
    "#### Imputation by Median / Mode of Subgroup"
   ]
  },
  {
   "cell_type": "markdown",
   "metadata": {},
   "source": [
    "We can impute with median/mode of a subgroup with respect to few selected variables. If the data values of a variable are known to depend upon some other variables in the dataset, this method of imputation is ideal. The code for imputation of numerical variables by median grouped by Seat Type and mode of categorical variables grouped by Seat Type is :"
   ]
  },
  {
   "cell_type": "raw",
   "metadata": {},
   "source": [
    "df_temp = df.copy()\n",
    "for var in numerical_labels:\n",
    "    missing = df_temp[var].isnull()\n",
    "    df_temp.loc[missing, [var]] = df_temp.groupby('Seat Type')[var].transform('median')\n",
    "\n",
    "for var in categorical_labels:\n",
    "    missing = df_temp[var].isnull()\n",
    "    df_temp.loc[missing, [var]] = df_temp.groupby('Seat Type')[var].transform(lambda S: S.mode()[0])\n",
    "\n",
    "df_temp.isnull().sum()"
   ]
  },
  {
   "cell_type": "markdown",
   "metadata": {},
   "source": [
    "#### kNN Imputation"
   ]
  },
  {
   "cell_type": "markdown",
   "metadata": {},
   "source": [
    "The missing values of a variable may be imputed using kNN. kNN finds the corresponding values of its nearest k neighbors by some distance function and imputes those values. We will discuss more about kNN imputation after one hot encoding categorical variables, which is a recommended step before kNN. "
   ]
  },
  {
   "cell_type": "markdown",
   "metadata": {},
   "source": [
    "#### Recommended treatment for missing values"
   ]
  },
  {
   "cell_type": "markdown",
   "metadata": {},
   "source": [
    "Our dataset too suffer from missing values. The missing value exist in 6 numerical variables namely, Entrance Rank, Family Income, Matriculation, Physics, Chemistry and Maths. It is known that these variables are highly correlated to the variable Seat Type. By plotting boxplot grouped by Seat Type helps verify our assumption."
   ]
  },
  {
   "cell_type": "code",
   "execution_count": 92,
   "metadata": {},
   "outputs": [
    {
     "data": {
      "image/png": "[encoded data removed]",
      "text/plain": [
       "<Figure size 1440x1440 with 6 Axes>"
      ]
     },
     "metadata": {
      "needs_background": "light"
     },
     "output_type": "display_data"
    }
   ],
   "source": [
    "plt.figure(figsize=(20, 20))\n",
    "plt.subplots_adjust(hspace=1)\n",
    "\n",
    "plt.subplot(3, 2, 1)\n",
    "sns.boxplot(x='Seat Type', y='Entrance Rank',data=df)\n",
    "\n",
    "plt.subplot(3, 2, 2)\n",
    "sns.boxplot(x='Seat Type', y='Matriculation',data=df)\n",
    "\n",
    "plt.subplot(3, 2, 3)\n",
    "sns.boxplot(x='Seat Type', y='Family Income',data=df)\n",
    "\n",
    "plt.subplot(3, 2, 4)\n",
    "sns.boxplot(x='Seat Type', y='Physics',data=df)\n",
    "\n",
    "plt.subplot(3, 2, 5)\n",
    "sns.boxplot(x='Seat Type', y='Chemistry',data=df)\n",
    "\n",
    "plt.subplot(3, 2, 6)\n",
    "sns.boxplot(x='Seat Type', y='Maths',data=df)\n",
    "\n",
    "plt.show()"
   ]
  },
  {
   "cell_type": "code",
   "execution_count": 95,
   "metadata": {},
   "outputs": [
    {
     "data": {
      "text/plain": [
       "(['Entrance Rank',\n",
       "  'Matriculation',\n",
       "  'Family Income',\n",
       "  'Physics',\n",
       "  'Chemistry',\n",
       "  'Maths'],\n",
       " ['Admn Yr', 'Seat Type', 'Reference', 'Sex', 'Proposed Residence', 'Board'])"
      ]
     },
     "execution_count": 95,
     "metadata": {},
     "output_type": "execute_result"
    }
   ],
   "source": [
    "numerical_labels, categorical_labels"
   ]
  },
  {
   "cell_type": "markdown",
   "metadata": {},
   "source": [
    "Therefore, for all numerical variables, missing values are imputed by median grouped by Seat Type."
   ]
  },
  {
   "cell_type": "code",
   "execution_count": 96,
   "metadata": {},
   "outputs": [],
   "source": [
    "for var in numerical_labels:\n",
    "    missing = df[var].isnull()\n",
    "    df.loc[missing, [var]] = df.groupby('Seat Type')[var].transform('median')"
   ]
  },
  {
   "cell_type": "markdown",
   "metadata": {},
   "source": [
    "The categorical variable Proposed Residence also contain missing values, which can be imputed by mode grouped by Seat Type."
   ]
  },
  {
   "cell_type": "code",
   "execution_count": 97,
   "metadata": {},
   "outputs": [],
   "source": [
    "#categoric variable Proposed Residence imputed by mode of subgroup Seat Type\n",
    "missing = df['Proposed Residence'].isnull()\n",
    "df.loc[missing, ['Proposed Residence']] = df.groupby('Seat Type')['Proposed Residence'].transform(lambda S: S.mode()[0])"
   ]
  },
  {
   "cell_type": "markdown",
   "metadata": {},
   "source": [
    "#### Final check"
   ]
  },
  {
   "cell_type": "code",
   "execution_count": 98,
   "metadata": {},
   "outputs": [
    {
     "data": {
      "text/plain": [
       "Admn Yr                  0\n",
       "Seat Type                0\n",
       "Entrance Rank            0\n",
       "Reference                0\n",
       "Sex                      0\n",
       "Proposed Residence       0\n",
       "Board                    0\n",
       "Matriculation            0\n",
       "Family Income            0\n",
       "Physics                  0\n",
       "Chemistry                0\n",
       "Maths                    0\n",
       "No of Subjects Failed    0\n",
       "dtype: int64"
      ]
     },
     "execution_count": 98,
     "metadata": {},
     "output_type": "execute_result"
    }
   ],
   "source": [
    "df.isnull().sum()"
   ]
  },
  {
   "cell_type": "markdown",
   "metadata": {},
   "source": [
    "# Outliers"
   ]
  },
  {
   "cell_type": "markdown",
   "metadata": {},
   "source": [
    "An outlier is an observation that appears far away and diverges from the overall pattern of the data set. Outliers need close attention — otherwise they can result in wildly wrong estimations. "
   ]
  },
  {
   "cell_type": "markdown",
   "metadata": {},
   "source": [
    "Let's see this with a simple example. Suppose we have a sample data set of 10 numbers: 1, 2, 3, 4, 5, 6, 7, 8, 9, 10.\n",
    "\n",
    "The mean for the above data is 5.5.\n",
    "\n",
    "Now let's replace the number 10 with 1000. So the new data set will be: 1, 2, 3, 4, 5, 6, 7, 8, 9, 1000.\n",
    "\n",
    "The mean is 104.5."
   ]
  },
  {
   "cell_type": "markdown",
   "metadata": {},
   "source": [
    "As you can see, having a single outlier had a significant effect on the mean value, which results in wrong estimation of the distribution. Outliers drastically influence the results of data analysis and statistical modeling, which has negative impact on the prediction."
   ]
  },
  {
   "cell_type": "markdown",
   "metadata": {},
   "source": [
    "Outliers are of two types.\n",
    "\n",
    "    Artificial Outliers - Outliers that arise due to data entry, experimental or other errors.\n",
    "    Natural Outliers - Outliers which are not because of any error, but which occur naturally and throw some light into the internal processes and hence require close attention. These observations have to be segmented separately and analyzed."
   ]
  },
  {
   "cell_type": "markdown",
   "metadata": {},
   "source": [
    "Let's visualize outliers by drawing boxplot"
   ]
  },
  {
   "cell_type": "code",
   "execution_count": 113,
   "metadata": {},
   "outputs": [
    {
     "name": "stderr",
     "output_type": "stream",
     "text": [
      "c:\\program files\\python36\\lib\\site-packages\\seaborn\\_decorators.py:43: FutureWarning: Pass the following variable as a keyword arg: x. From version 0.12, the only valid positional argument will be `data`, and passing other arguments without an explicit keyword will result in an error or misinterpretation.\n",
      "  FutureWarning\n",
      "c:\\program files\\python36\\lib\\site-packages\\seaborn\\_decorators.py:43: FutureWarning: Pass the following variable as a keyword arg: x. From version 0.12, the only valid positional argument will be `data`, and passing other arguments without an explicit keyword will result in an error or misinterpretation.\n",
      "  FutureWarning\n",
      "c:\\program files\\python36\\lib\\site-packages\\seaborn\\_decorators.py:43: FutureWarning: Pass the following variable as a keyword arg: x. From version 0.12, the only valid positional argument will be `data`, and passing other arguments without an explicit keyword will result in an error or misinterpretation.\n",
      "  FutureWarning\n",
      "c:\\program files\\python36\\lib\\site-packages\\seaborn\\_decorators.py:43: FutureWarning: Pass the following variable as a keyword arg: x. From version 0.12, the only valid positional argument will be `data`, and passing other arguments without an explicit keyword will result in an error or misinterpretation.\n",
      "  FutureWarning\n",
      "c:\\program files\\python36\\lib\\site-packages\\seaborn\\_decorators.py:43: FutureWarning: Pass the following variable as a keyword arg: x. From version 0.12, the only valid positional argument will be `data`, and passing other arguments without an explicit keyword will result in an error or misinterpretation.\n",
      "  FutureWarning\n",
      "c:\\program files\\python36\\lib\\site-packages\\seaborn\\_decorators.py:43: FutureWarning: Pass the following variable as a keyword arg: x. From version 0.12, the only valid positional argument will be `data`, and passing other arguments without an explicit keyword will result in an error or misinterpretation.\n",
      "  FutureWarning\n"
     ]
    },
    {
     "data": {
      "image/png": "[encoded data removed]",
      "text/plain": [
       "<Figure size 864x864 with 6 Axes>"
      ]
     },
     "metadata": {
      "needs_background": "light"
     },
     "output_type": "display_data"
    }
   ],
   "source": [
    "plt.figure(figsize=(12, 12))\n",
    "plt.subplots_adjust(hspace=1)\n",
    "\n",
    "plt.subplot(3, 2, 1)\n",
    "sns.boxplot(df['Entrance Rank'])\n",
    "\n",
    "plt.subplot(3, 2, 2)\n",
    "sns.boxplot(df['Matriculation'])\n",
    "\n",
    "plt.subplot(3, 2, 3)\n",
    "sns.boxplot(df['Family Income'])\n",
    "\n",
    "plt.subplot(3, 2, 4)\n",
    "sns.boxplot(df['Physics'])\n",
    "\n",
    "plt.subplot(3, 2, 5)\n",
    "sns.boxplot(df['Chemistry'])\n",
    "\n",
    "plt.subplot(3, 2, 6)\n",
    "sns.boxplot(df['Maths'])\n",
    "\n",
    "plt.show()"
   ]
  },
  {
   "cell_type": "markdown",
   "metadata": {},
   "source": [
    "We see that outliers exist for Matriculation, Physics, Chemistry and Maths. By the code below, we find the number of outliers in each of these variables. "
   ]
  },
  {
   "cell_type": "code",
   "execution_count": 114,
   "metadata": {},
   "outputs": [
    {
     "name": "stdout",
     "output_type": "stream",
     "text": [
      "Entrance Rank\n",
      "0\n",
      "Matriculation\n",
      "21\n",
      "Family Income\n",
      "0\n",
      "Physics\n",
      "6\n",
      "Chemistry\n",
      "1\n",
      "Maths\n",
      "14\n"
     ]
    }
   ],
   "source": [
    "for var in numerical_labels:\n",
    "    print(var)\n",
    "    q1, q3 = np.percentile(df.loc[:,var], [25, 75])\n",
    "    iqr = q3 - q1\n",
    "    lower_bound = q1 - (1.5 * iqr)\n",
    "    upper_bound = q3 + (1.5 * iqr)\n",
    "    above_upper = df[var] > upper_bound\n",
    "    below_lower = df[var] < lower_bound\n",
    "    outliers = above_upper | below_lower\n",
    "    print(outliers.sum()) # number of outliers"
   ]
  },
  {
   "cell_type": "markdown",
   "metadata": {},
   "source": [
    "The common techniques to deal with outliers are"
   ]
  },
  {
   "cell_type": "markdown",
   "metadata": {},
   "source": [
    "##### Deleting Observations"
   ]
  },
  {
   "cell_type": "markdown",
   "metadata": {},
   "source": [
    "We delete observations having outlier values if it is due to data entry or some other errors (artificial outliers). Again it depends on the size of data set. For small sized data set's, this method is not recommended. However, the code for the same is:"
   ]
  },
  {
   "cell_type": "code",
   "execution_count": 117,
   "metadata": {},
   "outputs": [
    {
     "name": "stdout",
     "output_type": "stream",
     "text": [
      "Shape before dropping outliers: (481, 13)\n",
      "total number of outliers : 33\n"
     ]
    }
   ],
   "source": [
    "print('Shape before dropping outliers:', df.shape)\n",
    "for var in numerical_labels:    \n",
    "    q1, q3 = np.percentile(df.loc[:,var], [25, 75])\n",
    "    iqr = q3 - q1\n",
    "    lower_bound = q1 - (1.5 * iqr)\n",
    "    upper_bound = q3 + (1.5 * iqr)\n",
    "    above_upper = df[var] > upper_bound\n",
    "    below_lower = df[var] < lower_bound\n",
    "    outliers = outliers | above_upper | below_lower\n",
    "\n",
    "print('total number of outliers :', outliers.sum()) # number of outliers    \n",
    "\n",
    "#drop outliers\n",
    "#df.drop(df[outliers==True].index)\n",
    "\n",
    "#print('Shape after dropping outliers:', df.drop(df[outliers==True].index).shape)"
   ]
  },
  {
   "cell_type": "markdown",
   "metadata": {},
   "source": [
    "There are 33 rows having outliers. When they are dropped, the number of observations reduced to 448. Alternatively, we can impute the outlier values."
   ]
  },
  {
   "cell_type": "markdown",
   "metadata": {},
   "source": [
    "#### Imputing"
   ]
  },
  {
   "cell_type": "markdown",
   "metadata": {},
   "source": [
    "As in the case of missing values, outliers can also be imputed by median or kNN. Imputation is normally done for\n",
    "\n",
    "    artificial outliers, or\n",
    "    outliers which arise due to some random cause which have negligible chance of repeatability and doesn't affect our analysis."
   ]
  },
  {
   "cell_type": "markdown",
   "metadata": {},
   "source": [
    "We can impute the numeric variables by median. The following code shows imputing outliers by median grouped by Seat Type"
   ]
  },
  {
   "cell_type": "raw",
   "metadata": {},
   "source": [
    "df_temp = df.copy()\n",
    "for var in numerical_labels:\n",
    "    print(var)\n",
    "\n",
    "    q1, q3 = np.percentile(df_temp.loc[:,var], [25, 75])\n",
    "    iqr = q3 - q1\n",
    "    lower_bound = q1 - (1.5 * iqr)\n",
    "    upper_bound = q3 + (1.5 * iqr)\n",
    "    above_upper = df_temp[var] > upper_bound\n",
    "    below_lower = df_temp[var] < lower_bound\n",
    "    outliers = above_upper | below_lower\n",
    "\n",
    "    print(outliers.sum()) # number of outliers\n",
    "\n",
    "    print(df_temp.loc[outliers, [var]]) # before replacing\n",
    "\n",
    "    df_temp.loc[outliers, [var]] = df_temp.groupby('Seat Type')[var].transform('median')\n",
    "\n",
    "    print(df_temp.loc[outliers, [var]]) # after replacing"
   ]
  },
  {
   "cell_type": "markdown",
   "metadata": {},
   "source": [
    "#### Segment and Analyze Separately"
   ]
  },
  {
   "cell_type": "markdown",
   "metadata": {},
   "source": [
    "If the outliers present are natural outliers and are in significant number, one method is to treat them separately while building models. For example, we can split the data into two different groups and build individual models for each group."
   ]
  },
  {
   "cell_type": "markdown",
   "metadata": {},
   "source": [
    "#### Transforming and binning values"
   ]
  },
  {
   "cell_type": "markdown",
   "metadata": {},
   "source": [
    "Another method to eliminate outliers is by transforming variables. Natural log of a value reduces the variation caused by extreme values. "
   ]
  },
  {
   "cell_type": "markdown",
   "metadata": {},
   "source": [
    "Binning is also a form of variable transformation. Here we assign the values in different bins determined by the class interval. These variables can then be treated as categorical variables."
   ]
  },
  {
   "cell_type": "markdown",
   "metadata": {},
   "source": [
    "#### No processing"
   ]
  },
  {
   "cell_type": "markdown",
   "metadata": {},
   "source": [
    "Natural outliers which does not deviate much form the main stream data can left without any processing. We might often use this"
   ]
  },
  {
   "cell_type": "markdown",
   "metadata": {},
   "source": [
    "#### Recommended method for Outliers"
   ]
  },
  {
   "cell_type": "markdown",
   "metadata": {},
   "source": [
    "For our dataset, the outliers of Matriculation, Physics, Chemistry and Maths are natural outliers, and for our analysis its recommended not to do any processing."
   ]
  },
  {
   "cell_type": "markdown",
   "metadata": {},
   "source": [
    "## Categorical Variable Transformation"
   ]
  },
  {
   "cell_type": "markdown",
   "metadata": {},
   "source": [
    "#### One hot encoding"
   ]
  },
  {
   "cell_type": "markdown",
   "metadata": {},
   "source": [
    "Many machine learning algorithms cannot work with categorical data directly. They need to be converted to numerical representation before processing.\n",
    "\n",
    "Each possible label for the categorical variable is converted into dummy/indicator variables. These dummy variables (of the categorical variable) are assigned values 0 except for one of them is given value 1, corresponding to the category it belongs.\n",
    "\n",
    "Take an example of encoding the categorical variable SeatType. It is having 9 different categories or labels. So nine dummy variable dataframe is created, each having one category label as its name. Every row will be having only one 1, while all others be 0.\n",
    "\n",
    "Then the original categorical variable in the data set is replaced with new encoded dummy/indicator variables. While replacing, one dummy variable is omitted intentionally to avoid collinearity."
   ]
  },
  {
   "cell_type": "raw",
   "metadata": {},
   "source": [
    "#one hot encoding - all categorical variables at once\n",
    "# creating dummy variables to convert categorical into numeric values\n",
    "dummies = pd.get_dummies(df[categorical_labels], prefix=categorical_labels, drop_first=True)\n",
    "\n",
    "df.drop(categorical_labels, axis=1, inplace = True)\n",
    "\n",
    "df = pd.concat([df, dummies], axis =1)"
   ]
  },
  {
   "cell_type": "markdown",
   "metadata": {},
   "source": [
    "explanation for why we need to drop one dummy variable out of every category\n",
    "#https://stats.stackexchange.com/questions/115049/why-do-we-need-to-dummy-code-categorical-variables"
   ]
  },
  {
   "cell_type": "markdown",
   "metadata": {},
   "source": [
    "#### KNN Imputation of Missing Values"
   ]
  },
  {
   "cell_type": "markdown",
   "metadata": {},
   "source": [
    "kNN finds the corresponding values of its nearest k neighbors by some distance function and imputes those values. For kNN all variables should be of numeric nature. As we have one hot encoded categoric variables and converted them into numeric, we can apply kNN imputation on missing data. The code for imputing all missing values at once based on kNN is:"
   ]
  },
  {
   "cell_type": "raw",
   "metadata": {},
   "source": [
    "#pip install fancyimpute\n",
    "from fancyimpute import KNN\n",
    "\n",
    "print('Missing values:\\n', df_missing.isnull().sum())\n",
    "\n",
    "#one hot encoding\n",
    "dummies = pd.get_dummies(df_missing[categorical_labels], prefix= categorical_labels, drop_first=True)\n",
    "df_missing.drop(categorical_labels, axis=1, inplace = True)\n",
    "df_missing = pd.concat([df_missing,dummies], axis =1 )\n",
    "\n",
    "# fit\n",
    "df_missing.loc[:, :] = KNN(k=5).fit_transform(df_missing)\n",
    "print('Missing values:\\n', df_missing.isnull().sum())"
   ]
  },
  {
   "cell_type": "markdown",
   "metadata": {},
   "source": [
    "#### summary"
   ]
  },
  {
   "cell_type": "markdown",
   "metadata": {},
   "source": [
    "\n",
    "    Data exploration and cleaning is a critical step where we prepare the data ready for further analysis, to be used by machine learning algorithms.\n",
    "    Shape of the data set and variable types are explored.\n",
    "    Numerical and Categorical variables are analysed to see the distribution of the data points.\n",
    "    Numerical variables are re scaled as per the requirement of the algorithms to be employed\n",
    "    Missing values are removed or imputed.\n",
    "    Outliers are examined and transformed if required.\n",
    "    Categorical variables are one hot encoded."
   ]
  },
  {
   "cell_type": "code",
   "execution_count": null,
   "metadata": {},
   "outputs": [],
   "source": []
  }
 ],
 "metadata": {
  "kernelspec": {
   "display_name": "Python 3",
   "language": "python",
   "name": "python3"
  },
  "language_info": {
   "codemirror_mode": {
    "name": "ipython",
    "version": 3
   },
   "file_extension": ".py",
   "mimetype": "text/x-python",
   "name": "python",
   "nbconvert_exporter": "python",
   "pygments_lexer": "ipython3",
   "version": "3.6.5"
  }
 },
 "nbformat": 4,
 "nbformat_minor": 4
}
